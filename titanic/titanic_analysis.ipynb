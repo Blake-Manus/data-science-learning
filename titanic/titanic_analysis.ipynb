{
 "cells": [
  {
   "cell_type": "code",
   "execution_count": 195,
   "metadata": {},
   "outputs": [],
   "source": [
    "import pandas as pd\n",
    "import seaborn as sns\n",
    "import matplotlib.pyplot as plt\n",
    "pd.plotting.register_matplotlib_converters()\n",
    "#from sklearn import preprocessing\n",
    "from sklearn.neighbors import KNeighborsClassifier\n",
    "from sklearn.ensemble import RandomForestClassifier\n",
    "from sklearn.svm import SVC\n",
    "from sklearn import svm\n",
    "from sklearn.neural_network import MLPClassifier\n",
    "\n",
    "from sklearn.metrics import confusion_matrix, classification_report\n",
    "from sklearn.preprocessing import StandardScaler, LabelEncoder\n",
    "from sklearn.model_selection import train_test_split\n",
    "%matplotlib inline"
   ]
  },
  {
   "cell_type": "code",
   "execution_count": 196,
   "metadata": {
    "scrolled": false
   },
   "outputs": [
    {
     "data": {
      "text/html": [
       "<div>\n",
       "<style scoped>\n",
       "    .dataframe tbody tr th:only-of-type {\n",
       "        vertical-align: middle;\n",
       "    }\n",
       "\n",
       "    .dataframe tbody tr th {\n",
       "        vertical-align: top;\n",
       "    }\n",
       "\n",
       "    .dataframe thead th {\n",
       "        text-align: right;\n",
       "    }\n",
       "</style>\n",
       "<table border=\"1\" class=\"dataframe\">\n",
       "  <thead>\n",
       "    <tr style=\"text-align: right;\">\n",
       "      <th></th>\n",
       "      <th>PassengerId</th>\n",
       "      <th>Survived</th>\n",
       "      <th>Pclass</th>\n",
       "      <th>Name</th>\n",
       "      <th>Sex</th>\n",
       "      <th>Age</th>\n",
       "      <th>SibSp</th>\n",
       "      <th>Parch</th>\n",
       "      <th>Ticket</th>\n",
       "      <th>Fare</th>\n",
       "      <th>Cabin</th>\n",
       "      <th>Embarked</th>\n",
       "    </tr>\n",
       "  </thead>\n",
       "  <tbody>\n",
       "    <tr>\n",
       "      <th>0</th>\n",
       "      <td>1</td>\n",
       "      <td>0</td>\n",
       "      <td>3</td>\n",
       "      <td>Braund, Mr. Owen Harris</td>\n",
       "      <td>male</td>\n",
       "      <td>22.0</td>\n",
       "      <td>1</td>\n",
       "      <td>0</td>\n",
       "      <td>A/5 21171</td>\n",
       "      <td>7.2500</td>\n",
       "      <td>NaN</td>\n",
       "      <td>S</td>\n",
       "    </tr>\n",
       "    <tr>\n",
       "      <th>1</th>\n",
       "      <td>2</td>\n",
       "      <td>1</td>\n",
       "      <td>1</td>\n",
       "      <td>Cumings, Mrs. John Bradley (Florence Briggs Th...</td>\n",
       "      <td>female</td>\n",
       "      <td>38.0</td>\n",
       "      <td>1</td>\n",
       "      <td>0</td>\n",
       "      <td>PC 17599</td>\n",
       "      <td>71.2833</td>\n",
       "      <td>C85</td>\n",
       "      <td>C</td>\n",
       "    </tr>\n",
       "    <tr>\n",
       "      <th>2</th>\n",
       "      <td>3</td>\n",
       "      <td>1</td>\n",
       "      <td>3</td>\n",
       "      <td>Heikkinen, Miss. Laina</td>\n",
       "      <td>female</td>\n",
       "      <td>26.0</td>\n",
       "      <td>0</td>\n",
       "      <td>0</td>\n",
       "      <td>STON/O2. 3101282</td>\n",
       "      <td>7.9250</td>\n",
       "      <td>NaN</td>\n",
       "      <td>S</td>\n",
       "    </tr>\n",
       "    <tr>\n",
       "      <th>3</th>\n",
       "      <td>4</td>\n",
       "      <td>1</td>\n",
       "      <td>1</td>\n",
       "      <td>Futrelle, Mrs. Jacques Heath (Lily May Peel)</td>\n",
       "      <td>female</td>\n",
       "      <td>35.0</td>\n",
       "      <td>1</td>\n",
       "      <td>0</td>\n",
       "      <td>113803</td>\n",
       "      <td>53.1000</td>\n",
       "      <td>C123</td>\n",
       "      <td>S</td>\n",
       "    </tr>\n",
       "    <tr>\n",
       "      <th>4</th>\n",
       "      <td>5</td>\n",
       "      <td>0</td>\n",
       "      <td>3</td>\n",
       "      <td>Allen, Mr. William Henry</td>\n",
       "      <td>male</td>\n",
       "      <td>35.0</td>\n",
       "      <td>0</td>\n",
       "      <td>0</td>\n",
       "      <td>373450</td>\n",
       "      <td>8.0500</td>\n",
       "      <td>NaN</td>\n",
       "      <td>S</td>\n",
       "    </tr>\n",
       "  </tbody>\n",
       "</table>\n",
       "</div>"
      ],
      "text/plain": [
       "   PassengerId  Survived  Pclass  \\\n",
       "0            1         0       3   \n",
       "1            2         1       1   \n",
       "2            3         1       3   \n",
       "3            4         1       1   \n",
       "4            5         0       3   \n",
       "\n",
       "                                                Name     Sex   Age  SibSp  \\\n",
       "0                            Braund, Mr. Owen Harris    male  22.0      1   \n",
       "1  Cumings, Mrs. John Bradley (Florence Briggs Th...  female  38.0      1   \n",
       "2                             Heikkinen, Miss. Laina  female  26.0      0   \n",
       "3       Futrelle, Mrs. Jacques Heath (Lily May Peel)  female  35.0      1   \n",
       "4                           Allen, Mr. William Henry    male  35.0      0   \n",
       "\n",
       "   Parch            Ticket     Fare Cabin Embarked  \n",
       "0      0         A/5 21171   7.2500   NaN        S  \n",
       "1      0          PC 17599  71.2833   C85        C  \n",
       "2      0  STON/O2. 3101282   7.9250   NaN        S  \n",
       "3      0            113803  53.1000  C123        S  \n",
       "4      0            373450   8.0500   NaN        S  "
      ]
     },
     "execution_count": 196,
     "metadata": {},
     "output_type": "execute_result"
    }
   ],
   "source": [
    "test_data = pd.read_csv('data-sets/test.csv')\n",
    "train_data = pd.read_csv('data-sets/train.csv')\n",
    "\n",
    "train_data.head()"
   ]
  },
  {
   "cell_type": "code",
   "execution_count": 197,
   "metadata": {},
   "outputs": [
    {
     "data": {
      "text/html": [
       "<div>\n",
       "<style scoped>\n",
       "    .dataframe tbody tr th:only-of-type {\n",
       "        vertical-align: middle;\n",
       "    }\n",
       "\n",
       "    .dataframe tbody tr th {\n",
       "        vertical-align: top;\n",
       "    }\n",
       "\n",
       "    .dataframe thead th {\n",
       "        text-align: right;\n",
       "    }\n",
       "</style>\n",
       "<table border=\"1\" class=\"dataframe\">\n",
       "  <thead>\n",
       "    <tr style=\"text-align: right;\">\n",
       "      <th></th>\n",
       "      <th>PassengerId</th>\n",
       "      <th>Survived</th>\n",
       "      <th>Pclass</th>\n",
       "      <th>Sex</th>\n",
       "      <th>Age</th>\n",
       "      <th>SibSp</th>\n",
       "      <th>Parch</th>\n",
       "      <th>Fare</th>\n",
       "      <th>Embarked</th>\n",
       "    </tr>\n",
       "  </thead>\n",
       "  <tbody>\n",
       "    <tr>\n",
       "      <th>0</th>\n",
       "      <td>1</td>\n",
       "      <td>0</td>\n",
       "      <td>3</td>\n",
       "      <td>1</td>\n",
       "      <td>22.0</td>\n",
       "      <td>1</td>\n",
       "      <td>0</td>\n",
       "      <td>7.2500</td>\n",
       "      <td>2</td>\n",
       "    </tr>\n",
       "    <tr>\n",
       "      <th>1</th>\n",
       "      <td>2</td>\n",
       "      <td>1</td>\n",
       "      <td>1</td>\n",
       "      <td>0</td>\n",
       "      <td>38.0</td>\n",
       "      <td>1</td>\n",
       "      <td>0</td>\n",
       "      <td>71.2833</td>\n",
       "      <td>0</td>\n",
       "    </tr>\n",
       "    <tr>\n",
       "      <th>2</th>\n",
       "      <td>3</td>\n",
       "      <td>1</td>\n",
       "      <td>3</td>\n",
       "      <td>0</td>\n",
       "      <td>26.0</td>\n",
       "      <td>0</td>\n",
       "      <td>0</td>\n",
       "      <td>7.9250</td>\n",
       "      <td>2</td>\n",
       "    </tr>\n",
       "    <tr>\n",
       "      <th>3</th>\n",
       "      <td>4</td>\n",
       "      <td>1</td>\n",
       "      <td>1</td>\n",
       "      <td>0</td>\n",
       "      <td>35.0</td>\n",
       "      <td>1</td>\n",
       "      <td>0</td>\n",
       "      <td>53.1000</td>\n",
       "      <td>2</td>\n",
       "    </tr>\n",
       "    <tr>\n",
       "      <th>4</th>\n",
       "      <td>5</td>\n",
       "      <td>0</td>\n",
       "      <td>3</td>\n",
       "      <td>1</td>\n",
       "      <td>35.0</td>\n",
       "      <td>0</td>\n",
       "      <td>0</td>\n",
       "      <td>8.0500</td>\n",
       "      <td>2</td>\n",
       "    </tr>\n",
       "  </tbody>\n",
       "</table>\n",
       "</div>"
      ],
      "text/plain": [
       "   PassengerId  Survived  Pclass  Sex   Age  SibSp  Parch     Fare  Embarked\n",
       "0            1         0       3    1  22.0      1      0   7.2500         2\n",
       "1            2         1       1    0  38.0      1      0  71.2833         0\n",
       "2            3         1       3    0  26.0      0      0   7.9250         2\n",
       "3            4         1       1    0  35.0      1      0  53.1000         2\n",
       "4            5         0       3    1  35.0      0      0   8.0500         2"
      ]
     },
     "execution_count": 197,
     "metadata": {},
     "output_type": "execute_result"
    }
   ],
   "source": [
    "#print(train_data)\n",
    "le = LabelEncoder()\n",
    "train_data['Sex'] = le.fit_transform(train_data.Sex) #Male as 1, Female as 0\n",
    "test_data['Sex'] = le.transform(test_data.Sex)       #Male as 1, Female as 0\n",
    "train_data.Age = train_data.Age.fillna(train_data.Age.mean())\n",
    "test_data.Age = test_data.Age.fillna(test_data.Age.mean())\n",
    "test_data.Fare = test_data.Fare.fillna(test_data.Fare.mean())\n",
    "\n",
    "train_data['Embarked'] = le.fit_transform(train_data.Embarked.astype(str))\n",
    "test_data['Embarked'] = le.transform(test_data.Embarked.astype(str))\n",
    "\n",
    "train_data.Embarked = train_data.Embarked.fillna(train_data.Embarked.mode())\n",
    "\n",
    "\n",
    "train_data = train_data.drop(columns=['Name','Cabin', 'Ticket'])\n",
    "test_data = test_data.drop(columns=['Name','Cabin', 'Ticket'])\n",
    "\n",
    "###train_data['Embarked'] = le.fit_transform(train_data.Embarked.astype(str))\n",
    "###test_data['Embarked'] = le.transform(test_data.Embarked.astype(str))\n",
    "\n",
    "###df1 = test_data[test_data.isna().any(axis=1)]\n",
    "#Male is 1, Female is 0\n",
    "train_data.head()\n",
    "\n",
    "\n",
    "\n",
    "##77% of Train Data contains NULL values for Cabin (687) ##\n",
    "##78% of Test Data contains NULL values for Cabin (327) ##\n",
    "\n",
    "##19% of Train Data contains NULL values for Age (177) ##\n",
    "##20% of Test Data contains NULL values for Age (86) ##\n",
    "\n",
    "#0.2% of Train Data contains NULL values for Embarked (2) ##\n",
    "#0.2% of Test Data contains NULL values for Fare (1) ##\n",
    "#####################################################################\n",
    "####Competition Rules Dictate No Rows dropped from Test Data#########\n",
    "#####################################################################"
   ]
  },
  {
   "cell_type": "code",
   "execution_count": 198,
   "metadata": {
    "scrolled": true
   },
   "outputs": [
    {
     "data": {
      "text/html": [
       "<div>\n",
       "<style scoped>\n",
       "    .dataframe tbody tr th:only-of-type {\n",
       "        vertical-align: middle;\n",
       "    }\n",
       "\n",
       "    .dataframe tbody tr th {\n",
       "        vertical-align: top;\n",
       "    }\n",
       "\n",
       "    .dataframe thead th {\n",
       "        text-align: right;\n",
       "    }\n",
       "</style>\n",
       "<table border=\"1\" class=\"dataframe\">\n",
       "  <thead>\n",
       "    <tr style=\"text-align: right;\">\n",
       "      <th></th>\n",
       "      <th>PassengerId</th>\n",
       "      <th>Pclass</th>\n",
       "      <th>Sex</th>\n",
       "      <th>Age</th>\n",
       "      <th>SibSp</th>\n",
       "      <th>Parch</th>\n",
       "      <th>Fare</th>\n",
       "      <th>Embarked</th>\n",
       "    </tr>\n",
       "  </thead>\n",
       "  <tbody>\n",
       "    <tr>\n",
       "      <th>0</th>\n",
       "      <td>892</td>\n",
       "      <td>3</td>\n",
       "      <td>1</td>\n",
       "      <td>34.5</td>\n",
       "      <td>0</td>\n",
       "      <td>0</td>\n",
       "      <td>7.8292</td>\n",
       "      <td>1</td>\n",
       "    </tr>\n",
       "    <tr>\n",
       "      <th>1</th>\n",
       "      <td>893</td>\n",
       "      <td>3</td>\n",
       "      <td>0</td>\n",
       "      <td>47.0</td>\n",
       "      <td>1</td>\n",
       "      <td>0</td>\n",
       "      <td>7.0000</td>\n",
       "      <td>2</td>\n",
       "    </tr>\n",
       "    <tr>\n",
       "      <th>2</th>\n",
       "      <td>894</td>\n",
       "      <td>2</td>\n",
       "      <td>1</td>\n",
       "      <td>62.0</td>\n",
       "      <td>0</td>\n",
       "      <td>0</td>\n",
       "      <td>9.6875</td>\n",
       "      <td>1</td>\n",
       "    </tr>\n",
       "    <tr>\n",
       "      <th>3</th>\n",
       "      <td>895</td>\n",
       "      <td>3</td>\n",
       "      <td>1</td>\n",
       "      <td>27.0</td>\n",
       "      <td>0</td>\n",
       "      <td>0</td>\n",
       "      <td>8.6625</td>\n",
       "      <td>2</td>\n",
       "    </tr>\n",
       "    <tr>\n",
       "      <th>4</th>\n",
       "      <td>896</td>\n",
       "      <td>3</td>\n",
       "      <td>0</td>\n",
       "      <td>22.0</td>\n",
       "      <td>1</td>\n",
       "      <td>1</td>\n",
       "      <td>12.2875</td>\n",
       "      <td>2</td>\n",
       "    </tr>\n",
       "  </tbody>\n",
       "</table>\n",
       "</div>"
      ],
      "text/plain": [
       "   PassengerId  Pclass  Sex   Age  SibSp  Parch     Fare  Embarked\n",
       "0          892       3    1  34.5      0      0   7.8292         1\n",
       "1          893       3    0  47.0      1      0   7.0000         2\n",
       "2          894       2    1  62.0      0      0   9.6875         1\n",
       "3          895       3    1  27.0      0      0   8.6625         2\n",
       "4          896       3    0  22.0      1      1  12.2875         2"
      ]
     },
     "execution_count": 198,
     "metadata": {},
     "output_type": "execute_result"
    }
   ],
   "source": [
    "test_data.head()"
   ]
  },
  {
   "cell_type": "code",
   "execution_count": 199,
   "metadata": {},
   "outputs": [
    {
     "data": {
      "text/plain": [
       "count    891.000000\n",
       "mean      29.699118\n",
       "std       13.002015\n",
       "min        0.420000\n",
       "25%       22.000000\n",
       "50%       29.699118\n",
       "75%       35.000000\n",
       "max       80.000000\n",
       "Name: Age, dtype: float64"
      ]
     },
     "execution_count": 199,
     "metadata": {},
     "output_type": "execute_result"
    }
   ],
   "source": [
    "train_data.Age.describe()"
   ]
  },
  {
   "cell_type": "code",
   "execution_count": 200,
   "metadata": {},
   "outputs": [
    {
     "data": {
      "text/plain": [
       "PassengerId    0\n",
       "Survived       0\n",
       "Pclass         0\n",
       "Sex            0\n",
       "Age            0\n",
       "SibSp          0\n",
       "Parch          0\n",
       "Fare           0\n",
       "Embarked       0\n",
       "dtype: int64"
      ]
     },
     "execution_count": 200,
     "metadata": {},
     "output_type": "execute_result"
    }
   ],
   "source": [
    "train_data.isnull().sum()"
   ]
  },
  {
   "cell_type": "code",
   "execution_count": 201,
   "metadata": {},
   "outputs": [
    {
     "data": {
      "text/plain": [
       "PassengerId    0\n",
       "Pclass         0\n",
       "Sex            0\n",
       "Age            0\n",
       "SibSp          0\n",
       "Parch          0\n",
       "Fare           0\n",
       "Embarked       0\n",
       "dtype: int64"
      ]
     },
     "execution_count": 201,
     "metadata": {},
     "output_type": "execute_result"
    }
   ],
   "source": [
    "test_data.isnull().sum()"
   ]
  },
  {
   "cell_type": "code",
   "execution_count": 202,
   "metadata": {},
   "outputs": [
    {
     "name": "stdout",
     "output_type": "stream",
     "text": [
      "(891, 9)\n",
      "(418, 8)\n"
     ]
    }
   ],
   "source": [
    "print(train_data.shape)\n",
    "print(test_data.shape)"
   ]
  },
  {
   "cell_type": "code",
   "execution_count": 203,
   "metadata": {},
   "outputs": [
    {
     "name": "stdout",
     "output_type": "stream",
     "text": [
      "<class 'pandas.core.frame.DataFrame'>\n",
      "RangeIndex: 891 entries, 0 to 890\n",
      "Data columns (total 9 columns):\n",
      " #   Column       Non-Null Count  Dtype  \n",
      "---  ------       --------------  -----  \n",
      " 0   PassengerId  891 non-null    int64  \n",
      " 1   Survived     891 non-null    int64  \n",
      " 2   Pclass       891 non-null    int64  \n",
      " 3   Sex          891 non-null    int32  \n",
      " 4   Age          891 non-null    float64\n",
      " 5   SibSp        891 non-null    int64  \n",
      " 6   Parch        891 non-null    int64  \n",
      " 7   Fare         891 non-null    float64\n",
      " 8   Embarked     891 non-null    int32  \n",
      "dtypes: float64(2), int32(2), int64(5)\n",
      "memory usage: 55.8 KB\n"
     ]
    }
   ],
   "source": [
    "train_data.info()"
   ]
  },
  {
   "cell_type": "code",
   "execution_count": 204,
   "metadata": {},
   "outputs": [
    {
     "data": {
      "text/plain": [
       "0    549\n",
       "1    342\n",
       "Name: Survived, dtype: int64"
      ]
     },
     "execution_count": 204,
     "metadata": {},
     "output_type": "execute_result"
    }
   ],
   "source": [
    "train_data['Survived'].value_counts()"
   ]
  },
  {
   "cell_type": "code",
   "execution_count": 205,
   "metadata": {},
   "outputs": [
    {
     "data": {
      "text/plain": [
       "<matplotlib.axes._subplots.AxesSubplot at 0x1a3344152b0>"
      ]
     },
     "execution_count": 205,
     "metadata": {},
     "output_type": "execute_result"
    },
    {
     "data": {
      "image/png": "[encoded data removed]",
      "text/plain": [
       "<Figure size 432x288 with 1 Axes>"
      ]
     },
     "metadata": {
      "needs_background": "light"
     },
     "output_type": "display_data"
    }
   ],
   "source": [
    "sns.countplot(train_data['Survived'])"
   ]
  },
  {
   "cell_type": "code",
   "execution_count": 206,
   "metadata": {},
   "outputs": [
    {
     "data": {
      "text/html": [
       "<style  type=\"text/css\" >\n",
       "    #T_90961d9b_0916_11eb_9577_b89a2a3bb4aarow0_col0 {\n",
       "            background-color:  #008000;\n",
       "            color:  #f1f1f1;\n",
       "        }    #T_90961d9b_0916_11eb_9577_b89a2a3bb4aarow0_col1 {\n",
       "            background-color:  #95d395;\n",
       "            color:  #000000;\n",
       "        }    #T_90961d9b_0916_11eb_9577_b89a2a3bb4aarow0_col2 {\n",
       "            background-color:  #9ad59a;\n",
       "            color:  #000000;\n",
       "        }    #T_90961d9b_0916_11eb_9577_b89a2a3bb4aarow0_col3 {\n",
       "            background-color:  #8ecf8e;\n",
       "            color:  #000000;\n",
       "        }    #T_90961d9b_0916_11eb_9577_b89a2a3bb4aarow0_col4 {\n",
       "            background-color:  #a6dca6;\n",
       "            color:  #000000;\n",
       "        }    #T_90961d9b_0916_11eb_9577_b89a2a3bb4aarow0_col5 {\n",
       "            background-color:  #c5edc5;\n",
       "            color:  #000000;\n",
       "        }    #T_90961d9b_0916_11eb_9577_b89a2a3bb4aarow0_col6 {\n",
       "            background-color:  #b8e6b8;\n",
       "            color:  #000000;\n",
       "        }    #T_90961d9b_0916_11eb_9577_b89a2a3bb4aarow0_col7 {\n",
       "            background-color:  #93d193;\n",
       "            color:  #000000;\n",
       "        }    #T_90961d9b_0916_11eb_9577_b89a2a3bb4aarow0_col8 {\n",
       "            background-color:  #b9e7b9;\n",
       "            color:  #000000;\n",
       "        }    #T_90961d9b_0916_11eb_9577_b89a2a3bb4aarow1_col0 {\n",
       "            background-color:  #dbf9db;\n",
       "            color:  #000000;\n",
       "        }    #T_90961d9b_0916_11eb_9577_b89a2a3bb4aarow1_col1 {\n",
       "            background-color:  #008000;\n",
       "            color:  #f1f1f1;\n",
       "        }    #T_90961d9b_0916_11eb_9577_b89a2a3bb4aarow1_col2 {\n",
       "            background-color:  #c7eec7;\n",
       "            color:  #000000;\n",
       "        }    #T_90961d9b_0916_11eb_9577_b89a2a3bb4aarow1_col3 {\n",
       "            background-color:  #e5ffe5;\n",
       "            color:  #000000;\n",
       "        }    #T_90961d9b_0916_11eb_9577_b89a2a3bb4aarow1_col4 {\n",
       "            background-color:  #b8e6b8;\n",
       "            color:  #000000;\n",
       "        }    #T_90961d9b_0916_11eb_9577_b89a2a3bb4aarow1_col5 {\n",
       "            background-color:  #c2ebc2;\n",
       "            color:  #000000;\n",
       "        }    #T_90961d9b_0916_11eb_9577_b89a2a3bb4aarow1_col6 {\n",
       "            background-color:  #a9dea9;\n",
       "            color:  #000000;\n",
       "        }    #T_90961d9b_0916_11eb_9577_b89a2a3bb4aarow1_col7 {\n",
       "            background-color:  #6ebd6e;\n",
       "            color:  #000000;\n",
       "        }    #T_90961d9b_0916_11eb_9577_b89a2a3bb4aarow1_col8 {\n",
       "            background-color:  #dbf9db;\n",
       "            color:  #000000;\n",
       "        }    #T_90961d9b_0916_11eb_9577_b89a2a3bb4aarow2_col0 {\n",
       "            background-color:  #e1fde1;\n",
       "            color:  #000000;\n",
       "        }    #T_90961d9b_0916_11eb_9577_b89a2a3bb4aarow2_col1 {\n",
       "            background-color:  #c8efc8;\n",
       "            color:  #000000;\n",
       "        }    #T_90961d9b_0916_11eb_9577_b89a2a3bb4aarow2_col2 {\n",
       "            background-color:  #008000;\n",
       "            color:  #f1f1f1;\n",
       "        }    #T_90961d9b_0916_11eb_9577_b89a2a3bb4aarow2_col3 {\n",
       "            background-color:  #81c781;\n",
       "            color:  #000000;\n",
       "        }    #T_90961d9b_0916_11eb_9577_b89a2a3bb4aarow2_col4 {\n",
       "            background-color:  #e5ffe5;\n",
       "            color:  #000000;\n",
       "        }    #T_90961d9b_0916_11eb_9577_b89a2a3bb4aarow2_col5 {\n",
       "            background-color:  #abdfab;\n",
       "            color:  #000000;\n",
       "        }    #T_90961d9b_0916_11eb_9577_b89a2a3bb4aarow2_col6 {\n",
       "            background-color:  #b5e4b5;\n",
       "            color:  #000000;\n",
       "        }    #T_90961d9b_0916_11eb_9577_b89a2a3bb4aarow2_col7 {\n",
       "            background-color:  #e5ffe5;\n",
       "            color:  #000000;\n",
       "        }    #T_90961d9b_0916_11eb_9577_b89a2a3bb4aarow2_col8 {\n",
       "            background-color:  #9ed89e;\n",
       "            color:  #000000;\n",
       "        }    #T_90961d9b_0916_11eb_9577_b89a2a3bb4aarow3_col0 {\n",
       "            background-color:  #d0f3d0;\n",
       "            color:  #000000;\n",
       "        }    #T_90961d9b_0916_11eb_9577_b89a2a3bb4aarow3_col1 {\n",
       "            background-color:  #e5ffe5;\n",
       "            color:  #000000;\n",
       "        }    #T_90961d9b_0916_11eb_9577_b89a2a3bb4aarow3_col2 {\n",
       "            background-color:  #81c781;\n",
       "            color:  #000000;\n",
       "        }    #T_90961d9b_0916_11eb_9577_b89a2a3bb4aarow3_col3 {\n",
       "            background-color:  #008000;\n",
       "            color:  #f1f1f1;\n",
       "        }    #T_90961d9b_0916_11eb_9577_b89a2a3bb4aarow3_col4 {\n",
       "            background-color:  #9ed89e;\n",
       "            color:  #000000;\n",
       "        }    #T_90961d9b_0916_11eb_9577_b89a2a3bb4aarow3_col5 {\n",
       "            background-color:  #d0f3d0;\n",
       "            color:  #000000;\n",
       "        }    #T_90961d9b_0916_11eb_9577_b89a2a3bb4aarow3_col6 {\n",
       "            background-color:  #e5ffe5;\n",
       "            color:  #000000;\n",
       "        }    #T_90961d9b_0916_11eb_9577_b89a2a3bb4aarow3_col7 {\n",
       "            background-color:  #b0e1b0;\n",
       "            color:  #000000;\n",
       "        }    #T_90961d9b_0916_11eb_9577_b89a2a3bb4aarow3_col8 {\n",
       "            background-color:  #a8dda8;\n",
       "            color:  #000000;\n",
       "        }    #T_90961d9b_0916_11eb_9577_b89a2a3bb4aarow4_col0 {\n",
       "            background-color:  #d3f5d3;\n",
       "            color:  #000000;\n",
       "        }    #T_90961d9b_0916_11eb_9577_b89a2a3bb4aarow4_col1 {\n",
       "            background-color:  #9fd89f;\n",
       "            color:  #000000;\n",
       "        }    #T_90961d9b_0916_11eb_9577_b89a2a3bb4aarow4_col2 {\n",
       "            background-color:  #c5edc5;\n",
       "            color:  #000000;\n",
       "        }    #T_90961d9b_0916_11eb_9577_b89a2a3bb4aarow4_col3 {\n",
       "            background-color:  #88cb88;\n",
       "            color:  #000000;\n",
       "        }    #T_90961d9b_0916_11eb_9577_b89a2a3bb4aarow4_col4 {\n",
       "            background-color:  #008000;\n",
       "            color:  #f1f1f1;\n",
       "        }    #T_90961d9b_0916_11eb_9577_b89a2a3bb4aarow4_col5 {\n",
       "            background-color:  #e5ffe5;\n",
       "            color:  #000000;\n",
       "        }    #T_90961d9b_0916_11eb_9577_b89a2a3bb4aarow4_col6 {\n",
       "            background-color:  #daf9da;\n",
       "            color:  #000000;\n",
       "        }    #T_90961d9b_0916_11eb_9577_b89a2a3bb4aarow4_col7 {\n",
       "            background-color:  #87cb87;\n",
       "            color:  #000000;\n",
       "        }    #T_90961d9b_0916_11eb_9577_b89a2a3bb4aarow4_col8 {\n",
       "            background-color:  #c1ebc1;\n",
       "            color:  #000000;\n",
       "        }    #T_90961d9b_0916_11eb_9577_b89a2a3bb4aarow5_col0 {\n",
       "            background-color:  #e5ffe5;\n",
       "            color:  #000000;\n",
       "        }    #T_90961d9b_0916_11eb_9577_b89a2a3bb4aarow5_col1 {\n",
       "            background-color:  #9ad59a;\n",
       "            color:  #000000;\n",
       "        }    #T_90961d9b_0916_11eb_9577_b89a2a3bb4aarow5_col2 {\n",
       "            background-color:  #88cb88;\n",
       "            color:  #000000;\n",
       "        }    #T_90961d9b_0916_11eb_9577_b89a2a3bb4aarow5_col3 {\n",
       "            background-color:  #a6dca6;\n",
       "            color:  #000000;\n",
       "        }    #T_90961d9b_0916_11eb_9577_b89a2a3bb4aarow5_col4 {\n",
       "            background-color:  #d5f6d5;\n",
       "            color:  #000000;\n",
       "        }    #T_90961d9b_0916_11eb_9577_b89a2a3bb4aarow5_col5 {\n",
       "            background-color:  #008000;\n",
       "            color:  #f1f1f1;\n",
       "        }    #T_90961d9b_0916_11eb_9577_b89a2a3bb4aarow5_col6 {\n",
       "            background-color:  #6cbc6c;\n",
       "            color:  #000000;\n",
       "        }    #T_90961d9b_0916_11eb_9577_b89a2a3bb4aarow5_col7 {\n",
       "            background-color:  #7cc57c;\n",
       "            color:  #000000;\n",
       "        }    #T_90961d9b_0916_11eb_9577_b89a2a3bb4aarow5_col8 {\n",
       "            background-color:  #b0e1b0;\n",
       "            color:  #000000;\n",
       "        }    #T_90961d9b_0916_11eb_9577_b89a2a3bb4aarow6_col0 {\n",
       "            background-color:  #daf9da;\n",
       "            color:  #000000;\n",
       "        }    #T_90961d9b_0916_11eb_9577_b89a2a3bb4aarow6_col1 {\n",
       "            background-color:  #89cc89;\n",
       "            color:  #000000;\n",
       "        }    #T_90961d9b_0916_11eb_9577_b89a2a3bb4aarow6_col2 {\n",
       "            background-color:  #92d192;\n",
       "            color:  #000000;\n",
       "        }    #T_90961d9b_0916_11eb_9577_b89a2a3bb4aarow6_col3 {\n",
       "            background-color:  #b9e7b9;\n",
       "            color:  #000000;\n",
       "        }    #T_90961d9b_0916_11eb_9577_b89a2a3bb4aarow6_col4 {\n",
       "            background-color:  #cbf1cb;\n",
       "            color:  #000000;\n",
       "        }    #T_90961d9b_0916_11eb_9577_b89a2a3bb4aarow6_col5 {\n",
       "            background-color:  #6dbc6d;\n",
       "            color:  #000000;\n",
       "        }    #T_90961d9b_0916_11eb_9577_b89a2a3bb4aarow6_col6 {\n",
       "            background-color:  #008000;\n",
       "            color:  #f1f1f1;\n",
       "        }    #T_90961d9b_0916_11eb_9577_b89a2a3bb4aarow6_col7 {\n",
       "            background-color:  #74c074;\n",
       "            color:  #000000;\n",
       "        }    #T_90961d9b_0916_11eb_9577_b89a2a3bb4aarow6_col8 {\n",
       "            background-color:  #b5e4b5;\n",
       "            color:  #000000;\n",
       "        }    #T_90961d9b_0916_11eb_9577_b89a2a3bb4aarow7_col0 {\n",
       "            background-color:  #d7f7d7;\n",
       "            color:  #000000;\n",
       "        }    #T_90961d9b_0916_11eb_9577_b89a2a3bb4aarow7_col1 {\n",
       "            background-color:  #6fbd6f;\n",
       "            color:  #000000;\n",
       "        }    #T_90961d9b_0916_11eb_9577_b89a2a3bb4aarow7_col2 {\n",
       "            background-color:  #e5ffe5;\n",
       "            color:  #000000;\n",
       "        }    #T_90961d9b_0916_11eb_9577_b89a2a3bb4aarow7_col3 {\n",
       "            background-color:  #b0e2b0;\n",
       "            color:  #000000;\n",
       "        }    #T_90961d9b_0916_11eb_9577_b89a2a3bb4aarow7_col4 {\n",
       "            background-color:  #9dd79d;\n",
       "            color:  #000000;\n",
       "        }    #T_90961d9b_0916_11eb_9577_b89a2a3bb4aarow7_col5 {\n",
       "            background-color:  #9dd79d;\n",
       "            color:  #000000;\n",
       "        }    #T_90961d9b_0916_11eb_9577_b89a2a3bb4aarow7_col6 {\n",
       "            background-color:  #91d091;\n",
       "            color:  #000000;\n",
       "        }    #T_90961d9b_0916_11eb_9577_b89a2a3bb4aarow7_col7 {\n",
       "            background-color:  #008000;\n",
       "            color:  #f1f1f1;\n",
       "        }    #T_90961d9b_0916_11eb_9577_b89a2a3bb4aarow7_col8 {\n",
       "            background-color:  #e5ffe5;\n",
       "            color:  #000000;\n",
       "        }    #T_90961d9b_0916_11eb_9577_b89a2a3bb4aarow8_col0 {\n",
       "            background-color:  #d6f7d6;\n",
       "            color:  #000000;\n",
       "        }    #T_90961d9b_0916_11eb_9577_b89a2a3bb4aarow8_col1 {\n",
       "            background-color:  #ade0ad;\n",
       "            color:  #000000;\n",
       "        }    #T_90961d9b_0916_11eb_9577_b89a2a3bb4aarow8_col2 {\n",
       "            background-color:  #7dc57d;\n",
       "            color:  #000000;\n",
       "        }    #T_90961d9b_0916_11eb_9577_b89a2a3bb4aarow8_col3 {\n",
       "            background-color:  #85ca85;\n",
       "            color:  #000000;\n",
       "        }    #T_90961d9b_0916_11eb_9577_b89a2a3bb4aarow8_col4 {\n",
       "            background-color:  #b0e2b0;\n",
       "            color:  #000000;\n",
       "        }    #T_90961d9b_0916_11eb_9577_b89a2a3bb4aarow8_col5 {\n",
       "            background-color:  #aee0ae;\n",
       "            color:  #000000;\n",
       "        }    #T_90961d9b_0916_11eb_9577_b89a2a3bb4aarow8_col6 {\n",
       "            background-color:  #b1e2b1;\n",
       "            color:  #000000;\n",
       "        }    #T_90961d9b_0916_11eb_9577_b89a2a3bb4aarow8_col7 {\n",
       "            background-color:  #b5e4b5;\n",
       "            color:  #000000;\n",
       "        }    #T_90961d9b_0916_11eb_9577_b89a2a3bb4aarow8_col8 {\n",
       "            background-color:  #008000;\n",
       "            color:  #f1f1f1;\n",
       "        }</style><table id=\"T_90961d9b_0916_11eb_9577_b89a2a3bb4aa\" ><caption>Colormaps, with a caption.</caption><thead>    <tr>        <th class=\"blank level0\" ></th>        <th class=\"col_heading level0 col0\" >PassengerId</th>        <th class=\"col_heading level0 col1\" >Survived</th>        <th class=\"col_heading level0 col2\" >Pclass</th>        <th class=\"col_heading level0 col3\" >Sex</th>        <th class=\"col_heading level0 col4\" >Age</th>        <th class=\"col_heading level0 col5\" >SibSp</th>        <th class=\"col_heading level0 col6\" >Parch</th>        <th class=\"col_heading level0 col7\" >Fare</th>        <th class=\"col_heading level0 col8\" >Embarked</th>    </tr></thead><tbody>\n",
       "                <tr>\n",
       "                        <th id=\"T_90961d9b_0916_11eb_9577_b89a2a3bb4aalevel0_row0\" class=\"row_heading level0 row0\" >PassengerId</th>\n",
       "                        <td id=\"T_90961d9b_0916_11eb_9577_b89a2a3bb4aarow0_col0\" class=\"data row0 col0\" >1.000000</td>\n",
       "                        <td id=\"T_90961d9b_0916_11eb_9577_b89a2a3bb4aarow0_col1\" class=\"data row0 col1\" >-0.005007</td>\n",
       "                        <td id=\"T_90961d9b_0916_11eb_9577_b89a2a3bb4aarow0_col2\" class=\"data row0 col2\" >-0.035144</td>\n",
       "                        <td id=\"T_90961d9b_0916_11eb_9577_b89a2a3bb4aarow0_col3\" class=\"data row0 col3\" >0.042939</td>\n",
       "                        <td id=\"T_90961d9b_0916_11eb_9577_b89a2a3bb4aarow0_col4\" class=\"data row0 col4\" >0.033207</td>\n",
       "                        <td id=\"T_90961d9b_0916_11eb_9577_b89a2a3bb4aarow0_col5\" class=\"data row0 col5\" >-0.057527</td>\n",
       "                        <td id=\"T_90961d9b_0916_11eb_9577_b89a2a3bb4aarow0_col6\" class=\"data row0 col6\" >-0.001652</td>\n",
       "                        <td id=\"T_90961d9b_0916_11eb_9577_b89a2a3bb4aarow0_col7\" class=\"data row0 col7\" >0.012658</td>\n",
       "                        <td id=\"T_90961d9b_0916_11eb_9577_b89a2a3bb4aarow0_col8\" class=\"data row0 col8\" >0.013083</td>\n",
       "            </tr>\n",
       "            <tr>\n",
       "                        <th id=\"T_90961d9b_0916_11eb_9577_b89a2a3bb4aalevel0_row1\" class=\"row_heading level0 row1\" >Survived</th>\n",
       "                        <td id=\"T_90961d9b_0916_11eb_9577_b89a2a3bb4aarow1_col0\" class=\"data row1 col0\" >-0.005007</td>\n",
       "                        <td id=\"T_90961d9b_0916_11eb_9577_b89a2a3bb4aarow1_col1\" class=\"data row1 col1\" >1.000000</td>\n",
       "                        <td id=\"T_90961d9b_0916_11eb_9577_b89a2a3bb4aarow1_col2\" class=\"data row1 col2\" >-0.338481</td>\n",
       "                        <td id=\"T_90961d9b_0916_11eb_9577_b89a2a3bb4aarow1_col3\" class=\"data row1 col3\" >-0.543351</td>\n",
       "                        <td id=\"T_90961d9b_0916_11eb_9577_b89a2a3bb4aarow1_col4\" class=\"data row1 col4\" >-0.069809</td>\n",
       "                        <td id=\"T_90961d9b_0916_11eb_9577_b89a2a3bb4aarow1_col5\" class=\"data row1 col5\" >-0.035322</td>\n",
       "                        <td id=\"T_90961d9b_0916_11eb_9577_b89a2a3bb4aarow1_col6\" class=\"data row1 col6\" >0.081629</td>\n",
       "                        <td id=\"T_90961d9b_0916_11eb_9577_b89a2a3bb4aarow1_col7\" class=\"data row1 col7\" >0.257307</td>\n",
       "                        <td id=\"T_90961d9b_0916_11eb_9577_b89a2a3bb4aarow1_col8\" class=\"data row1 col8\" >-0.163517</td>\n",
       "            </tr>\n",
       "            <tr>\n",
       "                        <th id=\"T_90961d9b_0916_11eb_9577_b89a2a3bb4aalevel0_row2\" class=\"row_heading level0 row2\" >Pclass</th>\n",
       "                        <td id=\"T_90961d9b_0916_11eb_9577_b89a2a3bb4aarow2_col0\" class=\"data row2 col0\" >-0.035144</td>\n",
       "                        <td id=\"T_90961d9b_0916_11eb_9577_b89a2a3bb4aarow2_col1\" class=\"data row2 col1\" >-0.338481</td>\n",
       "                        <td id=\"T_90961d9b_0916_11eb_9577_b89a2a3bb4aarow2_col2\" class=\"data row2 col2\" >1.000000</td>\n",
       "                        <td id=\"T_90961d9b_0916_11eb_9577_b89a2a3bb4aarow2_col3\" class=\"data row2 col3\" >0.131900</td>\n",
       "                        <td id=\"T_90961d9b_0916_11eb_9577_b89a2a3bb4aarow2_col4\" class=\"data row2 col4\" >-0.331339</td>\n",
       "                        <td id=\"T_90961d9b_0916_11eb_9577_b89a2a3bb4aarow2_col5\" class=\"data row2 col5\" >0.083081</td>\n",
       "                        <td id=\"T_90961d9b_0916_11eb_9577_b89a2a3bb4aarow2_col6\" class=\"data row2 col6\" >0.018443</td>\n",
       "                        <td id=\"T_90961d9b_0916_11eb_9577_b89a2a3bb4aarow2_col7\" class=\"data row2 col7\" >-0.549500</td>\n",
       "                        <td id=\"T_90961d9b_0916_11eb_9577_b89a2a3bb4aarow2_col8\" class=\"data row2 col8\" >0.157112</td>\n",
       "            </tr>\n",
       "            <tr>\n",
       "                        <th id=\"T_90961d9b_0916_11eb_9577_b89a2a3bb4aalevel0_row3\" class=\"row_heading level0 row3\" >Sex</th>\n",
       "                        <td id=\"T_90961d9b_0916_11eb_9577_b89a2a3bb4aarow3_col0\" class=\"data row3 col0\" >0.042939</td>\n",
       "                        <td id=\"T_90961d9b_0916_11eb_9577_b89a2a3bb4aarow3_col1\" class=\"data row3 col1\" >-0.543351</td>\n",
       "                        <td id=\"T_90961d9b_0916_11eb_9577_b89a2a3bb4aarow3_col2\" class=\"data row3 col2\" >0.131900</td>\n",
       "                        <td id=\"T_90961d9b_0916_11eb_9577_b89a2a3bb4aarow3_col3\" class=\"data row3 col3\" >1.000000</td>\n",
       "                        <td id=\"T_90961d9b_0916_11eb_9577_b89a2a3bb4aarow3_col4\" class=\"data row3 col4\" >0.084153</td>\n",
       "                        <td id=\"T_90961d9b_0916_11eb_9577_b89a2a3bb4aarow3_col5\" class=\"data row3 col5\" >-0.114631</td>\n",
       "                        <td id=\"T_90961d9b_0916_11eb_9577_b89a2a3bb4aarow3_col6\" class=\"data row3 col6\" >-0.245489</td>\n",
       "                        <td id=\"T_90961d9b_0916_11eb_9577_b89a2a3bb4aarow3_col7\" class=\"data row3 col7\" >-0.182333</td>\n",
       "                        <td id=\"T_90961d9b_0916_11eb_9577_b89a2a3bb4aarow3_col8\" class=\"data row3 col8\" >0.104057</td>\n",
       "            </tr>\n",
       "            <tr>\n",
       "                        <th id=\"T_90961d9b_0916_11eb_9577_b89a2a3bb4aalevel0_row4\" class=\"row_heading level0 row4\" >Age</th>\n",
       "                        <td id=\"T_90961d9b_0916_11eb_9577_b89a2a3bb4aarow4_col0\" class=\"data row4 col0\" >0.033207</td>\n",
       "                        <td id=\"T_90961d9b_0916_11eb_9577_b89a2a3bb4aarow4_col1\" class=\"data row4 col1\" >-0.069809</td>\n",
       "                        <td id=\"T_90961d9b_0916_11eb_9577_b89a2a3bb4aarow4_col2\" class=\"data row4 col2\" >-0.331339</td>\n",
       "                        <td id=\"T_90961d9b_0916_11eb_9577_b89a2a3bb4aarow4_col3\" class=\"data row4 col3\" >0.084153</td>\n",
       "                        <td id=\"T_90961d9b_0916_11eb_9577_b89a2a3bb4aarow4_col4\" class=\"data row4 col4\" >1.000000</td>\n",
       "                        <td id=\"T_90961d9b_0916_11eb_9577_b89a2a3bb4aarow4_col5\" class=\"data row4 col5\" >-0.232625</td>\n",
       "                        <td id=\"T_90961d9b_0916_11eb_9577_b89a2a3bb4aarow4_col6\" class=\"data row4 col6\" >-0.179191</td>\n",
       "                        <td id=\"T_90961d9b_0916_11eb_9577_b89a2a3bb4aarow4_col7\" class=\"data row4 col7\" >0.091566</td>\n",
       "                        <td id=\"T_90961d9b_0916_11eb_9577_b89a2a3bb4aarow4_col8\" class=\"data row4 col8\" >-0.022239</td>\n",
       "            </tr>\n",
       "            <tr>\n",
       "                        <th id=\"T_90961d9b_0916_11eb_9577_b89a2a3bb4aalevel0_row5\" class=\"row_heading level0 row5\" >SibSp</th>\n",
       "                        <td id=\"T_90961d9b_0916_11eb_9577_b89a2a3bb4aarow5_col0\" class=\"data row5 col0\" >-0.057527</td>\n",
       "                        <td id=\"T_90961d9b_0916_11eb_9577_b89a2a3bb4aarow5_col1\" class=\"data row5 col1\" >-0.035322</td>\n",
       "                        <td id=\"T_90961d9b_0916_11eb_9577_b89a2a3bb4aarow5_col2\" class=\"data row5 col2\" >0.083081</td>\n",
       "                        <td id=\"T_90961d9b_0916_11eb_9577_b89a2a3bb4aarow5_col3\" class=\"data row5 col3\" >-0.114631</td>\n",
       "                        <td id=\"T_90961d9b_0916_11eb_9577_b89a2a3bb4aarow5_col4\" class=\"data row5 col4\" >-0.232625</td>\n",
       "                        <td id=\"T_90961d9b_0916_11eb_9577_b89a2a3bb4aarow5_col5\" class=\"data row5 col5\" >1.000000</td>\n",
       "                        <td id=\"T_90961d9b_0916_11eb_9577_b89a2a3bb4aarow5_col6\" class=\"data row5 col6\" >0.414838</td>\n",
       "                        <td id=\"T_90961d9b_0916_11eb_9577_b89a2a3bb4aarow5_col7\" class=\"data row5 col7\" >0.159651</td>\n",
       "                        <td id=\"T_90961d9b_0916_11eb_9577_b89a2a3bb4aarow5_col8\" class=\"data row5 col8\" >0.066654</td>\n",
       "            </tr>\n",
       "            <tr>\n",
       "                        <th id=\"T_90961d9b_0916_11eb_9577_b89a2a3bb4aalevel0_row6\" class=\"row_heading level0 row6\" >Parch</th>\n",
       "                        <td id=\"T_90961d9b_0916_11eb_9577_b89a2a3bb4aarow6_col0\" class=\"data row6 col0\" >-0.001652</td>\n",
       "                        <td id=\"T_90961d9b_0916_11eb_9577_b89a2a3bb4aarow6_col1\" class=\"data row6 col1\" >0.081629</td>\n",
       "                        <td id=\"T_90961d9b_0916_11eb_9577_b89a2a3bb4aarow6_col2\" class=\"data row6 col2\" >0.018443</td>\n",
       "                        <td id=\"T_90961d9b_0916_11eb_9577_b89a2a3bb4aarow6_col3\" class=\"data row6 col3\" >-0.245489</td>\n",
       "                        <td id=\"T_90961d9b_0916_11eb_9577_b89a2a3bb4aarow6_col4\" class=\"data row6 col4\" >-0.179191</td>\n",
       "                        <td id=\"T_90961d9b_0916_11eb_9577_b89a2a3bb4aarow6_col5\" class=\"data row6 col5\" >0.414838</td>\n",
       "                        <td id=\"T_90961d9b_0916_11eb_9577_b89a2a3bb4aarow6_col6\" class=\"data row6 col6\" >1.000000</td>\n",
       "                        <td id=\"T_90961d9b_0916_11eb_9577_b89a2a3bb4aarow6_col7\" class=\"data row6 col7\" >0.216225</td>\n",
       "                        <td id=\"T_90961d9b_0916_11eb_9577_b89a2a3bb4aarow6_col8\" class=\"data row6 col8\" >0.038322</td>\n",
       "            </tr>\n",
       "            <tr>\n",
       "                        <th id=\"T_90961d9b_0916_11eb_9577_b89a2a3bb4aalevel0_row7\" class=\"row_heading level0 row7\" >Fare</th>\n",
       "                        <td id=\"T_90961d9b_0916_11eb_9577_b89a2a3bb4aarow7_col0\" class=\"data row7 col0\" >0.012658</td>\n",
       "                        <td id=\"T_90961d9b_0916_11eb_9577_b89a2a3bb4aarow7_col1\" class=\"data row7 col1\" >0.257307</td>\n",
       "                        <td id=\"T_90961d9b_0916_11eb_9577_b89a2a3bb4aarow7_col2\" class=\"data row7 col2\" >-0.549500</td>\n",
       "                        <td id=\"T_90961d9b_0916_11eb_9577_b89a2a3bb4aarow7_col3\" class=\"data row7 col3\" >-0.182333</td>\n",
       "                        <td id=\"T_90961d9b_0916_11eb_9577_b89a2a3bb4aarow7_col4\" class=\"data row7 col4\" >0.091566</td>\n",
       "                        <td id=\"T_90961d9b_0916_11eb_9577_b89a2a3bb4aarow7_col5\" class=\"data row7 col5\" >0.159651</td>\n",
       "                        <td id=\"T_90961d9b_0916_11eb_9577_b89a2a3bb4aarow7_col6\" class=\"data row7 col6\" >0.216225</td>\n",
       "                        <td id=\"T_90961d9b_0916_11eb_9577_b89a2a3bb4aarow7_col7\" class=\"data row7 col7\" >1.000000</td>\n",
       "                        <td id=\"T_90961d9b_0916_11eb_9577_b89a2a3bb4aarow7_col8\" class=\"data row7 col8\" >-0.221226</td>\n",
       "            </tr>\n",
       "            <tr>\n",
       "                        <th id=\"T_90961d9b_0916_11eb_9577_b89a2a3bb4aalevel0_row8\" class=\"row_heading level0 row8\" >Embarked</th>\n",
       "                        <td id=\"T_90961d9b_0916_11eb_9577_b89a2a3bb4aarow8_col0\" class=\"data row8 col0\" >0.013083</td>\n",
       "                        <td id=\"T_90961d9b_0916_11eb_9577_b89a2a3bb4aarow8_col1\" class=\"data row8 col1\" >-0.163517</td>\n",
       "                        <td id=\"T_90961d9b_0916_11eb_9577_b89a2a3bb4aarow8_col2\" class=\"data row8 col2\" >0.157112</td>\n",
       "                        <td id=\"T_90961d9b_0916_11eb_9577_b89a2a3bb4aarow8_col3\" class=\"data row8 col3\" >0.104057</td>\n",
       "                        <td id=\"T_90961d9b_0916_11eb_9577_b89a2a3bb4aarow8_col4\" class=\"data row8 col4\" >-0.022239</td>\n",
       "                        <td id=\"T_90961d9b_0916_11eb_9577_b89a2a3bb4aarow8_col5\" class=\"data row8 col5\" >0.066654</td>\n",
       "                        <td id=\"T_90961d9b_0916_11eb_9577_b89a2a3bb4aarow8_col6\" class=\"data row8 col6\" >0.038322</td>\n",
       "                        <td id=\"T_90961d9b_0916_11eb_9577_b89a2a3bb4aarow8_col7\" class=\"data row8 col7\" >-0.221226</td>\n",
       "                        <td id=\"T_90961d9b_0916_11eb_9577_b89a2a3bb4aarow8_col8\" class=\"data row8 col8\" >1.000000</td>\n",
       "            </tr>\n",
       "    </tbody></table>"
      ],
      "text/plain": [
       "<pandas.io.formats.style.Styler at 0x1a3354458b0>"
      ]
     },
     "execution_count": 206,
     "metadata": {},
     "output_type": "execute_result"
    }
   ],
   "source": [
    "cm = sns.light_palette(\"green\", as_cmap=True)\n",
    "corr = train_data.corr()\n",
    "corr.style.set_caption('Colormaps, with a caption.').background_gradient(cmap=cm)"
   ]
  },
  {
   "cell_type": "code",
   "execution_count": 207,
   "metadata": {
    "scrolled": true
   },
   "outputs": [
    {
     "data": {
      "text/plain": [
       "<matplotlib.axes._subplots.AxesSubplot at 0x1a3343fd7c0>"
      ]
     },
     "execution_count": 207,
     "metadata": {},
     "output_type": "execute_result"
    },
    {
     "data": {
      "image/png": "[encoded data removed]",
      "text/plain": [
       "<Figure size 360x288 with 1 Axes>"
      ]
     },
     "metadata": {
      "needs_background": "light"
     },
     "output_type": "display_data"
    }
   ],
   "source": [
    "plt.figure(figsize=(5,4))\n",
    "plt.ylim(0.0, 1.0)\n",
    "plt.xlim(1, 3)\n",
    "sns.set_style(\"whitegrid\")\n",
    "sns.barplot(train_data.Pclass, train_data.Survived, palette=[\"gold\", \"silver\", \"darkorange\"], ci=None)\n",
    "#sns.lineplot(train_data.Pclass, train_data.Survived)"
   ]
  },
  {
   "cell_type": "code",
   "execution_count": 208,
   "metadata": {},
   "outputs": [
    {
     "data": {
      "text/plain": [
       "<matplotlib.axes._subplots.AxesSubplot at 0x1a33549f280>"
      ]
     },
     "execution_count": 208,
     "metadata": {},
     "output_type": "execute_result"
    },
    {
     "data": {
      "image/png": "[encoded data removed]",
      "text/plain": [
       "<Figure size 504x360 with 1 Axes>"
      ]
     },
     "metadata": {},
     "output_type": "display_data"
    }
   ],
   "source": [
    "plt.figure(figsize=(7,5))\n",
    "plt.ylim(0.0, 1.0)\n",
    "plt.xlim(1, 3)\n",
    "sns.set_style(\"whitegrid\")\n",
    "sns.barplot(x=train_data.Pclass, y=train_data.Survived, hue=train_data.Sex, palette=[\"lightpink\", \"skyblue\"], ci=None)\n"
   ]
  },
  {
   "cell_type": "code",
   "execution_count": 209,
   "metadata": {},
   "outputs": [
    {
     "data": {
      "text/plain": [
       "<matplotlib.axes._subplots.AxesSubplot at 0x1a334415400>"
      ]
     },
     "execution_count": 209,
     "metadata": {},
     "output_type": "execute_result"
    },
    {
     "data": {
      "image/png": "[encoded data removed]",
      "text/plain": [
       "<Figure size 504x360 with 1 Axes>"
      ]
     },
     "metadata": {},
     "output_type": "display_data"
    }
   ],
   "source": [
    "plt.figure(figsize=(7,5))\n",
    "sns.set_style(\"whitegrid\")\n",
    "sns.lineplot(x=train_data.Parch,y=train_data.Survived, ci=0)\n",
    "sns.lineplot(x=train_data.SibSp,y=train_data.Survived, ci=0)"
   ]
  },
  {
   "cell_type": "code",
   "execution_count": 210,
   "metadata": {},
   "outputs": [],
   "source": [
    "df1 = train_data.Survived\n",
    "train_data = train_data.drop(columns=['Survived'])"
   ]
  },
  {
   "cell_type": "code",
   "execution_count": 211,
   "metadata": {},
   "outputs": [
    {
     "data": {
      "text/plain": [
       "KNeighborsClassifier(n_neighbors=1)"
      ]
     },
     "execution_count": 211,
     "metadata": {},
     "output_type": "execute_result"
    }
   ],
   "source": [
    "X_train, X_test, y_train, y_test = train_test_split(train_data, df1, test_size=0.20, random_state=0)\n",
    "#X_train, X_test, y_train, y_test = train_test_split(train_data, test_data, random_state=0)\n",
    "knn = KNeighborsClassifier(n_neighbors=1)\n",
    "\n",
    "knn.fit(X_train, y_train)"
   ]
  },
  {
   "cell_type": "code",
   "execution_count": 212,
   "metadata": {},
   "outputs": [
    {
     "name": "stdout",
     "output_type": "stream",
     "text": [
      "[0 0 0 0 0 0 0 1 0 1 0 0 1 0 1 1 0 0 0 0 1 0 1 1 1 0 1 0 1 0 0 1 0 0 1 0 0\n",
      " 0 0 1 0 1 0 0 1 0 1 0 1 0 1 0 1 1 0 1 0 0 0 1 0 0 0 0 1 1 0 1 1 1 0 0 0 1\n",
      " 1 1 0 0 0 0 1 1 1 0 0 1 0 1 0 1 1 0 1 0 1 0 1 0 1 0 1 1 0 0 1 1 1 0 0 1 0\n",
      " 0 1 1 1 1 0 1 1 1 1 0 1 0 0 1 1 1 0 1 0 1 1 0 0 1 1 1 1 1 1 1 1 1 1 1 1 1\n",
      " 1 1 1 1 1 1 1 1 1 1 1 1 1 1 1 1 1 1 1 1 1 1 1 1 1 1 1 1 1 1 1 1 1 1 1 1 1\n",
      " 1 1 1 1 1 1 1 1 0 1 1 1 1 1 1 1 1 1 1 1 1 1 1 1 1 1 1 1 1 1 1 1 1 1 1 1 1\n",
      " 1 1 1 1 1 1 1 1 1 1 1 1 1 1 1 1 1 1 1 1 1 1 1 1 1 1 1 1 1 1 1 1 1 1 1 1 1\n",
      " 1 1 1 1 1 1 1 1 1 1 1 1 1 1 1 1 1 1 1 1 1 1 1 1 1 1 1 1 1 1 1 1 1 1 1 1 1\n",
      " 1 1 1 1 1 1 1 1 1 1 1 1 1 1 1 1 1 1 1 1 1 1 1 1 1 1 1 1 1 1 1 1 1 1 1 1 1\n",
      " 1 1 1 1 1 1 1 1 1 1 1 1 1 1 1 1 1 1 1 1 1 1 1 1 1 1 1 1 1 1 1 1 1 1 1 1 1\n",
      " 1 1 1 1 1 1 1 1 1 1 1 1 1 1 1 1 1 1 1 1 1 1 1 1 1 1 1 1 1 1 1 1 1 1 1 1 1\n",
      " 1 1 1 1 1 1 1 1 1 1 1]\n"
     ]
    }
   ],
   "source": [
    "prediction = knn.predict(test_data)\n",
    "print(prediction)"
   ]
  },
  {
   "cell_type": "code",
   "execution_count": 213,
   "metadata": {},
   "outputs": [
    {
     "name": "stdout",
     "output_type": "stream",
     "text": [
      "0.6871508379888268\n"
     ]
    }
   ],
   "source": [
    "print(knn.score(X_test, y_test))"
   ]
  },
  {
   "cell_type": "code",
   "execution_count": 214,
   "metadata": {},
   "outputs": [
    {
     "data": {
      "text/plain": [
       "(418, 8)"
      ]
     },
     "execution_count": 214,
     "metadata": {},
     "output_type": "execute_result"
    }
   ],
   "source": [
    "test_data.shape"
   ]
  },
  {
   "cell_type": "code",
   "execution_count": 215,
   "metadata": {},
   "outputs": [
    {
     "name": "stdout",
     "output_type": "stream",
     "text": [
      "0.6871508379888268\n"
     ]
    }
   ],
   "source": [
    "print(knn.score(X_test, y_test))"
   ]
  },
  {
   "cell_type": "code",
   "execution_count": 216,
   "metadata": {},
   "outputs": [
    {
     "data": {
      "text/plain": [
       "(418, 8)"
      ]
     },
     "execution_count": 216,
     "metadata": {},
     "output_type": "execute_result"
    }
   ],
   "source": [
    "test_data.shape"
   ]
  },
  {
   "cell_type": "code",
   "execution_count": null,
   "metadata": {},
   "outputs": [],
   "source": []
  }
 ],
 "metadata": {
  "kernelspec": {
   "display_name": "Python 3",
   "language": "python",
   "name": "python3"
  },
  "language_info": {
   "codemirror_mode": {
    "name": "ipython",
    "version": 3
   },
   "file_extension": ".py",
   "mimetype": "text/x-python",
   "name": "python",
   "nbconvert_exporter": "python",
   "pygments_lexer": "ipython3",
   "version": "3.8.3"
  }
 },
 "nbformat": 4,
 "nbformat_minor": 4
}
