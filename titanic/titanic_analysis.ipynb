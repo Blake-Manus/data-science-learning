{
 "cells": [
  {
   "cell_type": "code",
   "execution_count": 76,
   "metadata": {},
   "outputs": [],
   "source": [
    "import pandas as pd\n",
    "import numpy as np\n",
    "import seaborn as sns\n",
    "import matplotlib.pyplot as plt\n",
    "pd.plotting.register_matplotlib_converters()\n",
    "from sklearn.neighbors import KNeighborsClassifier\n",
    "from sklearn.ensemble import RandomForestClassifier\n",
    "from sklearn.svm import SVC\n",
    "from sklearn import svm\n",
    "from sklearn.neural_network import MLPClassifier\n",
    "\n",
    "from sklearn.metrics import confusion_matrix, classification_report\n",
    "from sklearn import preprocessing\n",
    "from sklearn.preprocessing import StandardScaler, LabelEncoder\n",
    "from sklearn.model_selection import train_test_split, cross_val_score\n",
    "\n",
    "%matplotlib inline"
   ]
  },
  {
   "cell_type": "code",
   "execution_count": 2,
   "metadata": {
    "scrolled": true
   },
   "outputs": [
    {
     "data": {
      "text/html": [
       "<div>\n",
       "<style scoped>\n",
       "    .dataframe tbody tr th:only-of-type {\n",
       "        vertical-align: middle;\n",
       "    }\n",
       "\n",
       "    .dataframe tbody tr th {\n",
       "        vertical-align: top;\n",
       "    }\n",
       "\n",
       "    .dataframe thead th {\n",
       "        text-align: right;\n",
       "    }\n",
       "</style>\n",
       "<table border=\"1\" class=\"dataframe\">\n",
       "  <thead>\n",
       "    <tr style=\"text-align: right;\">\n",
       "      <th></th>\n",
       "      <th>PassengerId</th>\n",
       "      <th>Survived</th>\n",
       "      <th>Pclass</th>\n",
       "      <th>Name</th>\n",
       "      <th>Sex</th>\n",
       "      <th>Age</th>\n",
       "      <th>SibSp</th>\n",
       "      <th>Parch</th>\n",
       "      <th>Ticket</th>\n",
       "      <th>Fare</th>\n",
       "      <th>Cabin</th>\n",
       "      <th>Embarked</th>\n",
       "    </tr>\n",
       "  </thead>\n",
       "  <tbody>\n",
       "    <tr>\n",
       "      <th>0</th>\n",
       "      <td>1</td>\n",
       "      <td>0</td>\n",
       "      <td>3</td>\n",
       "      <td>Braund, Mr. Owen Harris</td>\n",
       "      <td>male</td>\n",
       "      <td>22.0</td>\n",
       "      <td>1</td>\n",
       "      <td>0</td>\n",
       "      <td>A/5 21171</td>\n",
       "      <td>7.2500</td>\n",
       "      <td>NaN</td>\n",
       "      <td>S</td>\n",
       "    </tr>\n",
       "    <tr>\n",
       "      <th>1</th>\n",
       "      <td>2</td>\n",
       "      <td>1</td>\n",
       "      <td>1</td>\n",
       "      <td>Cumings, Mrs. John Bradley (Florence Briggs Th...</td>\n",
       "      <td>female</td>\n",
       "      <td>38.0</td>\n",
       "      <td>1</td>\n",
       "      <td>0</td>\n",
       "      <td>PC 17599</td>\n",
       "      <td>71.2833</td>\n",
       "      <td>C85</td>\n",
       "      <td>C</td>\n",
       "    </tr>\n",
       "    <tr>\n",
       "      <th>2</th>\n",
       "      <td>3</td>\n",
       "      <td>1</td>\n",
       "      <td>3</td>\n",
       "      <td>Heikkinen, Miss. Laina</td>\n",
       "      <td>female</td>\n",
       "      <td>26.0</td>\n",
       "      <td>0</td>\n",
       "      <td>0</td>\n",
       "      <td>STON/O2. 3101282</td>\n",
       "      <td>7.9250</td>\n",
       "      <td>NaN</td>\n",
       "      <td>S</td>\n",
       "    </tr>\n",
       "    <tr>\n",
       "      <th>3</th>\n",
       "      <td>4</td>\n",
       "      <td>1</td>\n",
       "      <td>1</td>\n",
       "      <td>Futrelle, Mrs. Jacques Heath (Lily May Peel)</td>\n",
       "      <td>female</td>\n",
       "      <td>35.0</td>\n",
       "      <td>1</td>\n",
       "      <td>0</td>\n",
       "      <td>113803</td>\n",
       "      <td>53.1000</td>\n",
       "      <td>C123</td>\n",
       "      <td>S</td>\n",
       "    </tr>\n",
       "    <tr>\n",
       "      <th>4</th>\n",
       "      <td>5</td>\n",
       "      <td>0</td>\n",
       "      <td>3</td>\n",
       "      <td>Allen, Mr. William Henry</td>\n",
       "      <td>male</td>\n",
       "      <td>35.0</td>\n",
       "      <td>0</td>\n",
       "      <td>0</td>\n",
       "      <td>373450</td>\n",
       "      <td>8.0500</td>\n",
       "      <td>NaN</td>\n",
       "      <td>S</td>\n",
       "    </tr>\n",
       "  </tbody>\n",
       "</table>\n",
       "</div>"
      ],
      "text/plain": [
       "   PassengerId  Survived  Pclass  \\\n",
       "0            1         0       3   \n",
       "1            2         1       1   \n",
       "2            3         1       3   \n",
       "3            4         1       1   \n",
       "4            5         0       3   \n",
       "\n",
       "                                                Name     Sex   Age  SibSp  \\\n",
       "0                            Braund, Mr. Owen Harris    male  22.0      1   \n",
       "1  Cumings, Mrs. John Bradley (Florence Briggs Th...  female  38.0      1   \n",
       "2                             Heikkinen, Miss. Laina  female  26.0      0   \n",
       "3       Futrelle, Mrs. Jacques Heath (Lily May Peel)  female  35.0      1   \n",
       "4                           Allen, Mr. William Henry    male  35.0      0   \n",
       "\n",
       "   Parch            Ticket     Fare Cabin Embarked  \n",
       "0      0         A/5 21171   7.2500   NaN        S  \n",
       "1      0          PC 17599  71.2833   C85        C  \n",
       "2      0  STON/O2. 3101282   7.9250   NaN        S  \n",
       "3      0            113803  53.1000  C123        S  \n",
       "4      0            373450   8.0500   NaN        S  "
      ]
     },
     "execution_count": 2,
     "metadata": {},
     "output_type": "execute_result"
    }
   ],
   "source": [
    "test_data = pd.read_csv('data-sets/test.csv')\n",
    "train_data = pd.read_csv('data-sets/train.csv')\n",
    "\n",
    "train_data.head()"
   ]
  },
  {
   "cell_type": "code",
   "execution_count": 3,
   "metadata": {},
   "outputs": [],
   "source": [
    "####################\n",
    "# Data Information\n",
    "####################\n",
    "# PassengerId: Identification of passenger for accuracy check on Kaggle\n",
    "# Survived: If the individual survivied (1) or died (0)\n",
    "# Pclass: The ticket class: 1: 1st class, 2: 2nd class, 3: 3rd class\n",
    "# Name: The name of the individual: String #### Not sure if there is meaningful data here?\n",
    "# Sex: male vs female: *** This Data should be encoded as Male(1) and Female(0)\n",
    "# SibSp: Number of Siblings & Spouses aboard\n",
    "# Parch: Number of Parents & Children aboard\n",
    "# Ticket: Ticket Number: *** Not sure of the meaningfulness behind the data?\n",
    "# Fare: Cost of the passenger\n",
    "# Cabin: Cabin Number: *** Not sure if this is meaningful? Notable amount of Null values\n",
    "# Embarked: Location of Embarkation *** This Data should be Encoded as C(0), Q(1), S(2)\n",
    "\n",
    "####################\n",
    "# Classification Problem: Determine if the passenger will Survive (1) or Die (0)\n",
    "####################\n",
    "\n",
    "##### Notes to check the data #######\n",
    "# Did the wealthy survive? Middle Class?\n",
    "# Did Younger individuals survive? Lower class children vs upper class adults?\n",
    "# Did location matter? Did certain Embarked areas correlate to wealthier individuals?\n",
    "# Were Females more likely to survive?  \n",
    "# Larger vs Smaller Families? \n",
    "# Siblings vs Parch vs total family size\n",
    "#####################################"
   ]
  },
  {
   "cell_type": "code",
   "execution_count": 4,
   "metadata": {
    "scrolled": true
   },
   "outputs": [
    {
     "name": "stdout",
     "output_type": "stream",
     "text": [
      "<class 'pandas.core.frame.DataFrame'>\n",
      "RangeIndex: 891 entries, 0 to 890\n",
      "Data columns (total 12 columns):\n",
      " #   Column       Non-Null Count  Dtype  \n",
      "---  ------       --------------  -----  \n",
      " 0   PassengerId  891 non-null    int64  \n",
      " 1   Survived     891 non-null    int64  \n",
      " 2   Pclass       891 non-null    int64  \n",
      " 3   Name         891 non-null    object \n",
      " 4   Sex          891 non-null    object \n",
      " 5   Age          714 non-null    float64\n",
      " 6   SibSp        891 non-null    int64  \n",
      " 7   Parch        891 non-null    int64  \n",
      " 8   Ticket       891 non-null    object \n",
      " 9   Fare         891 non-null    float64\n",
      " 10  Cabin        204 non-null    object \n",
      " 11  Embarked     889 non-null    object \n",
      "dtypes: float64(2), int64(5), object(5)\n",
      "memory usage: 83.7+ KB\n"
     ]
    }
   ],
   "source": [
    "train_data.info()"
   ]
  },
  {
   "cell_type": "code",
   "execution_count": 5,
   "metadata": {
    "scrolled": false
   },
   "outputs": [
    {
     "data": {
      "text/html": [
       "<div>\n",
       "<style scoped>\n",
       "    .dataframe tbody tr th:only-of-type {\n",
       "        vertical-align: middle;\n",
       "    }\n",
       "\n",
       "    .dataframe tbody tr th {\n",
       "        vertical-align: top;\n",
       "    }\n",
       "\n",
       "    .dataframe thead th {\n",
       "        text-align: right;\n",
       "    }\n",
       "</style>\n",
       "<table border=\"1\" class=\"dataframe\">\n",
       "  <thead>\n",
       "    <tr style=\"text-align: right;\">\n",
       "      <th></th>\n",
       "      <th>PassengerId</th>\n",
       "      <th>Survived</th>\n",
       "      <th>Pclass</th>\n",
       "      <th>Age</th>\n",
       "      <th>SibSp</th>\n",
       "      <th>Parch</th>\n",
       "      <th>Fare</th>\n",
       "    </tr>\n",
       "  </thead>\n",
       "  <tbody>\n",
       "    <tr>\n",
       "      <th>count</th>\n",
       "      <td>891.000000</td>\n",
       "      <td>891.000000</td>\n",
       "      <td>891.000000</td>\n",
       "      <td>714.000000</td>\n",
       "      <td>891.000000</td>\n",
       "      <td>891.000000</td>\n",
       "      <td>891.000000</td>\n",
       "    </tr>\n",
       "    <tr>\n",
       "      <th>mean</th>\n",
       "      <td>446.000000</td>\n",
       "      <td>0.383838</td>\n",
       "      <td>2.308642</td>\n",
       "      <td>29.699118</td>\n",
       "      <td>0.523008</td>\n",
       "      <td>0.381594</td>\n",
       "      <td>32.204208</td>\n",
       "    </tr>\n",
       "    <tr>\n",
       "      <th>std</th>\n",
       "      <td>257.353842</td>\n",
       "      <td>0.486592</td>\n",
       "      <td>0.836071</td>\n",
       "      <td>14.526497</td>\n",
       "      <td>1.102743</td>\n",
       "      <td>0.806057</td>\n",
       "      <td>49.693429</td>\n",
       "    </tr>\n",
       "    <tr>\n",
       "      <th>min</th>\n",
       "      <td>1.000000</td>\n",
       "      <td>0.000000</td>\n",
       "      <td>1.000000</td>\n",
       "      <td>0.420000</td>\n",
       "      <td>0.000000</td>\n",
       "      <td>0.000000</td>\n",
       "      <td>0.000000</td>\n",
       "    </tr>\n",
       "    <tr>\n",
       "      <th>25%</th>\n",
       "      <td>223.500000</td>\n",
       "      <td>0.000000</td>\n",
       "      <td>2.000000</td>\n",
       "      <td>20.125000</td>\n",
       "      <td>0.000000</td>\n",
       "      <td>0.000000</td>\n",
       "      <td>7.910400</td>\n",
       "    </tr>\n",
       "    <tr>\n",
       "      <th>50%</th>\n",
       "      <td>446.000000</td>\n",
       "      <td>0.000000</td>\n",
       "      <td>3.000000</td>\n",
       "      <td>28.000000</td>\n",
       "      <td>0.000000</td>\n",
       "      <td>0.000000</td>\n",
       "      <td>14.454200</td>\n",
       "    </tr>\n",
       "    <tr>\n",
       "      <th>75%</th>\n",
       "      <td>668.500000</td>\n",
       "      <td>1.000000</td>\n",
       "      <td>3.000000</td>\n",
       "      <td>38.000000</td>\n",
       "      <td>1.000000</td>\n",
       "      <td>0.000000</td>\n",
       "      <td>31.000000</td>\n",
       "    </tr>\n",
       "    <tr>\n",
       "      <th>max</th>\n",
       "      <td>891.000000</td>\n",
       "      <td>1.000000</td>\n",
       "      <td>3.000000</td>\n",
       "      <td>80.000000</td>\n",
       "      <td>8.000000</td>\n",
       "      <td>6.000000</td>\n",
       "      <td>512.329200</td>\n",
       "    </tr>\n",
       "  </tbody>\n",
       "</table>\n",
       "</div>"
      ],
      "text/plain": [
       "       PassengerId    Survived      Pclass         Age       SibSp  \\\n",
       "count   891.000000  891.000000  891.000000  714.000000  891.000000   \n",
       "mean    446.000000    0.383838    2.308642   29.699118    0.523008   \n",
       "std     257.353842    0.486592    0.836071   14.526497    1.102743   \n",
       "min       1.000000    0.000000    1.000000    0.420000    0.000000   \n",
       "25%     223.500000    0.000000    2.000000   20.125000    0.000000   \n",
       "50%     446.000000    0.000000    3.000000   28.000000    0.000000   \n",
       "75%     668.500000    1.000000    3.000000   38.000000    1.000000   \n",
       "max     891.000000    1.000000    3.000000   80.000000    8.000000   \n",
       "\n",
       "            Parch        Fare  \n",
       "count  891.000000  891.000000  \n",
       "mean     0.381594   32.204208  \n",
       "std      0.806057   49.693429  \n",
       "min      0.000000    0.000000  \n",
       "25%      0.000000    7.910400  \n",
       "50%      0.000000   14.454200  \n",
       "75%      0.000000   31.000000  \n",
       "max      6.000000  512.329200  "
      ]
     },
     "execution_count": 5,
     "metadata": {},
     "output_type": "execute_result"
    }
   ],
   "source": [
    "train_data.describe()"
   ]
  },
  {
   "cell_type": "code",
   "execution_count": 75,
   "metadata": {},
   "outputs": [
    {
     "data": {
      "text/html": [
       "<style  type=\"text/css\" >\n",
       "    #T_c951e762_1fa5_11eb_8467_b89a2a3bb4aarow0_col0 {\n",
       "            background-color:  #800080;\n",
       "            color:  #f1f1f1;\n",
       "        }    #T_c951e762_1fa5_11eb_8467_b89a2a3bb4aarow0_col1 {\n",
       "            background-color:  #d79ed7;\n",
       "            color:  #000000;\n",
       "        }    #T_c951e762_1fa5_11eb_8467_b89a2a3bb4aarow0_col2 {\n",
       "            background-color:  #ffe5ff;\n",
       "            color:  #000000;\n",
       "        }    #T_c951e762_1fa5_11eb_8467_b89a2a3bb4aarow0_col3 {\n",
       "            background-color:  #dfabdf;\n",
       "            color:  #000000;\n",
       "        }    #T_c951e762_1fa5_11eb_8467_b89a2a3bb4aarow0_col4 {\n",
       "            background-color:  #e4b5e4;\n",
       "            color:  #000000;\n",
       "        }    #T_c951e762_1fa5_11eb_8467_b89a2a3bb4aarow0_col5 {\n",
       "            background-color:  #ffe5ff;\n",
       "            color:  #000000;\n",
       "        }    #T_c951e762_1fa5_11eb_8467_b89a2a3bb4aarow0_col6 {\n",
       "            background-color:  #daa2da;\n",
       "            color:  #000000;\n",
       "        }    #T_c951e762_1fa5_11eb_8467_b89a2a3bb4aarow1_col0 {\n",
       "            background-color:  #c278c2;\n",
       "            color:  #000000;\n",
       "        }    #T_c951e762_1fa5_11eb_8467_b89a2a3bb4aarow1_col1 {\n",
       "            background-color:  #800080;\n",
       "            color:  #f1f1f1;\n",
       "        }    #T_c951e762_1fa5_11eb_8467_b89a2a3bb4aarow1_col2 {\n",
       "            background-color:  #d89ed8;\n",
       "            color:  #000000;\n",
       "        }    #T_c951e762_1fa5_11eb_8467_b89a2a3bb4aarow1_col3 {\n",
       "            background-color:  #f3d0f3;\n",
       "            color:  #000000;\n",
       "        }    #T_c951e762_1fa5_11eb_8467_b89a2a3bb4aarow1_col4 {\n",
       "            background-color:  #ffe5ff;\n",
       "            color:  #000000;\n",
       "        }    #T_c951e762_1fa5_11eb_8467_b89a2a3bb4aarow1_col5 {\n",
       "            background-color:  #e1afe1;\n",
       "            color:  #000000;\n",
       "        }    #T_c951e762_1fa5_11eb_8467_b89a2a3bb4aarow1_col6 {\n",
       "            background-color:  #dfacdf;\n",
       "            color:  #000000;\n",
       "        }    #T_c951e762_1fa5_11eb_8467_b89a2a3bb4aarow2_col0 {\n",
       "            background-color:  #e6b8e6;\n",
       "            color:  #000000;\n",
       "        }    #T_c951e762_1fa5_11eb_8467_b89a2a3bb4aarow2_col1 {\n",
       "            background-color:  #dca6dc;\n",
       "            color:  #000000;\n",
       "        }    #T_c951e762_1fa5_11eb_8467_b89a2a3bb4aarow2_col2 {\n",
       "            background-color:  #800080;\n",
       "            color:  #f1f1f1;\n",
       "        }    #T_c951e762_1fa5_11eb_8467_b89a2a3bb4aarow2_col3 {\n",
       "            background-color:  #ffe5ff;\n",
       "            color:  #000000;\n",
       "        }    #T_c951e762_1fa5_11eb_8467_b89a2a3bb4aarow2_col4 {\n",
       "            background-color:  #f9daf9;\n",
       "            color:  #000000;\n",
       "        }    #T_c951e762_1fa5_11eb_8467_b89a2a3bb4aarow2_col5 {\n",
       "            background-color:  #c57cc5;\n",
       "            color:  #000000;\n",
       "        }    #T_c951e762_1fa5_11eb_8467_b89a2a3bb4aarow2_col6 {\n",
       "            background-color:  #edc4ed;\n",
       "            color:  #000000;\n",
       "        }    #T_c951e762_1fa5_11eb_8467_b89a2a3bb4aarow3_col0 {\n",
       "            background-color:  #c67fc6;\n",
       "            color:  #000000;\n",
       "        }    #T_c951e762_1fa5_11eb_8467_b89a2a3bb4aarow3_col1 {\n",
       "            background-color:  #f0caf0;\n",
       "            color:  #000000;\n",
       "        }    #T_c951e762_1fa5_11eb_8467_b89a2a3bb4aarow3_col2 {\n",
       "            background-color:  #f6d5f6;\n",
       "            color:  #000000;\n",
       "        }    #T_c951e762_1fa5_11eb_8467_b89a2a3bb4aarow3_col3 {\n",
       "            background-color:  #800080;\n",
       "            color:  #f1f1f1;\n",
       "        }    #T_c951e762_1fa5_11eb_8467_b89a2a3bb4aarow3_col4 {\n",
       "            background-color:  #bc6cbc;\n",
       "            color:  #000000;\n",
       "        }    #T_c951e762_1fa5_11eb_8467_b89a2a3bb4aarow3_col5 {\n",
       "            background-color:  #b45eb4;\n",
       "            color:  #000000;\n",
       "        }    #T_c951e762_1fa5_11eb_8467_b89a2a3bb4aarow3_col6 {\n",
       "            background-color:  #e3b3e3;\n",
       "            color:  #000000;\n",
       "        }    #T_c951e762_1fa5_11eb_8467_b89a2a3bb4aarow4_col0 {\n",
       "            background-color:  #cb88cb;\n",
       "            color:  #000000;\n",
       "        }    #T_c951e762_1fa5_11eb_8467_b89a2a3bb4aarow4_col1 {\n",
       "            background-color:  #fee3fe;\n",
       "            color:  #000000;\n",
       "        }    #T_c951e762_1fa5_11eb_8467_b89a2a3bb4aarow4_col2 {\n",
       "            background-color:  #f1cbf1;\n",
       "            color:  #000000;\n",
       "        }    #T_c951e762_1fa5_11eb_8467_b89a2a3bb4aarow4_col3 {\n",
       "            background-color:  #bc6dbc;\n",
       "            color:  #000000;\n",
       "        }    #T_c951e762_1fa5_11eb_8467_b89a2a3bb4aarow4_col4 {\n",
       "            background-color:  #800080;\n",
       "            color:  #f1f1f1;\n",
       "        }    #T_c951e762_1fa5_11eb_8467_b89a2a3bb4aarow4_col5 {\n",
       "            background-color:  #b35cb3;\n",
       "            color:  #000000;\n",
       "        }    #T_c951e762_1fa5_11eb_8467_b89a2a3bb4aarow4_col6 {\n",
       "            background-color:  #e6b8e6;\n",
       "            color:  #000000;\n",
       "        }    #T_c951e762_1fa5_11eb_8467_b89a2a3bb4aarow5_col0 {\n",
       "            background-color:  #ffe5ff;\n",
       "            color:  #000000;\n",
       "        }    #T_c951e762_1fa5_11eb_8467_b89a2a3bb4aarow5_col1 {\n",
       "            background-color:  #ffe5ff;\n",
       "            color:  #000000;\n",
       "        }    #T_c951e762_1fa5_11eb_8467_b89a2a3bb4aarow5_col2 {\n",
       "            background-color:  #d69bd6;\n",
       "            color:  #000000;\n",
       "        }    #T_c951e762_1fa5_11eb_8467_b89a2a3bb4aarow5_col3 {\n",
       "            background-color:  #c67fc6;\n",
       "            color:  #000000;\n",
       "        }    #T_c951e762_1fa5_11eb_8467_b89a2a3bb4aarow5_col4 {\n",
       "            background-color:  #c47bc4;\n",
       "            color:  #000000;\n",
       "        }    #T_c951e762_1fa5_11eb_8467_b89a2a3bb4aarow5_col5 {\n",
       "            background-color:  #800080;\n",
       "            color:  #f1f1f1;\n",
       "        }    #T_c951e762_1fa5_11eb_8467_b89a2a3bb4aarow5_col6 {\n",
       "            background-color:  #ffe5ff;\n",
       "            color:  #000000;\n",
       "        }    #T_c951e762_1fa5_11eb_8467_b89a2a3bb4aarow6_col0 {\n",
       "            background-color:  #c074c0;\n",
       "            color:  #000000;\n",
       "        }    #T_c951e762_1fa5_11eb_8467_b89a2a3bb4aarow6_col1 {\n",
       "            background-color:  #daa3da;\n",
       "            color:  #000000;\n",
       "        }    #T_c951e762_1fa5_11eb_8467_b89a2a3bb4aarow6_col2 {\n",
       "            background-color:  #e2b0e2;\n",
       "            color:  #000000;\n",
       "        }    #T_c951e762_1fa5_11eb_8467_b89a2a3bb4aarow6_col3 {\n",
       "            background-color:  #e0aee0;\n",
       "            color:  #000000;\n",
       "        }    #T_c951e762_1fa5_11eb_8467_b89a2a3bb4aarow6_col4 {\n",
       "            background-color:  #e2b1e2;\n",
       "            color:  #000000;\n",
       "        }    #T_c951e762_1fa5_11eb_8467_b89a2a3bb4aarow6_col5 {\n",
       "            background-color:  #dca6dc;\n",
       "            color:  #000000;\n",
       "        }    #T_c951e762_1fa5_11eb_8467_b89a2a3bb4aarow6_col6 {\n",
       "            background-color:  #800080;\n",
       "            color:  #f1f1f1;\n",
       "        }</style><table id=\"T_c951e762_1fa5_11eb_8467_b89a2a3bb4aa\" ><caption>Colormaps, with a caption.</caption><thead>    <tr>        <th class=\"blank level0\" ></th>        <th class=\"col_heading level0 col0\" >Pclass</th>        <th class=\"col_heading level0 col1\" >Sex</th>        <th class=\"col_heading level0 col2\" >Age</th>        <th class=\"col_heading level0 col3\" >SibSp</th>        <th class=\"col_heading level0 col4\" >Parch</th>        <th class=\"col_heading level0 col5\" >Fare</th>        <th class=\"col_heading level0 col6\" >Embarked</th>    </tr></thead><tbody>\n",
       "                <tr>\n",
       "                        <th id=\"T_c951e762_1fa5_11eb_8467_b89a2a3bb4aalevel0_row0\" class=\"row_heading level0 row0\" >Pclass</th>\n",
       "                        <td id=\"T_c951e762_1fa5_11eb_8467_b89a2a3bb4aarow0_col0\" class=\"data row0 col0\" >1.000000</td>\n",
       "                        <td id=\"T_c951e762_1fa5_11eb_8467_b89a2a3bb4aarow0_col1\" class=\"data row0 col1\" >0.131900</td>\n",
       "                        <td id=\"T_c951e762_1fa5_11eb_8467_b89a2a3bb4aarow0_col2\" class=\"data row0 col2\" >-0.331339</td>\n",
       "                        <td id=\"T_c951e762_1fa5_11eb_8467_b89a2a3bb4aarow0_col3\" class=\"data row0 col3\" >0.083081</td>\n",
       "                        <td id=\"T_c951e762_1fa5_11eb_8467_b89a2a3bb4aarow0_col4\" class=\"data row0 col4\" >0.018443</td>\n",
       "                        <td id=\"T_c951e762_1fa5_11eb_8467_b89a2a3bb4aarow0_col5\" class=\"data row0 col5\" >-0.661022</td>\n",
       "                        <td id=\"T_c951e762_1fa5_11eb_8467_b89a2a3bb4aarow0_col6\" class=\"data row0 col6\" >0.157112</td>\n",
       "            </tr>\n",
       "            <tr>\n",
       "                        <th id=\"T_c951e762_1fa5_11eb_8467_b89a2a3bb4aalevel0_row1\" class=\"row_heading level0 row1\" >Sex</th>\n",
       "                        <td id=\"T_c951e762_1fa5_11eb_8467_b89a2a3bb4aarow1_col0\" class=\"data row1 col0\" >0.131900</td>\n",
       "                        <td id=\"T_c951e762_1fa5_11eb_8467_b89a2a3bb4aarow1_col1\" class=\"data row1 col1\" >1.000000</td>\n",
       "                        <td id=\"T_c951e762_1fa5_11eb_8467_b89a2a3bb4aarow1_col2\" class=\"data row1 col2\" >0.084153</td>\n",
       "                        <td id=\"T_c951e762_1fa5_11eb_8467_b89a2a3bb4aarow1_col3\" class=\"data row1 col3\" >-0.114631</td>\n",
       "                        <td id=\"T_c951e762_1fa5_11eb_8467_b89a2a3bb4aarow1_col4\" class=\"data row1 col4\" >-0.245489</td>\n",
       "                        <td id=\"T_c951e762_1fa5_11eb_8467_b89a2a3bb4aarow1_col5\" class=\"data row1 col5\" >-0.263276</td>\n",
       "                        <td id=\"T_c951e762_1fa5_11eb_8467_b89a2a3bb4aarow1_col6\" class=\"data row1 col6\" >0.104057</td>\n",
       "            </tr>\n",
       "            <tr>\n",
       "                        <th id=\"T_c951e762_1fa5_11eb_8467_b89a2a3bb4aalevel0_row2\" class=\"row_heading level0 row2\" >Age</th>\n",
       "                        <td id=\"T_c951e762_1fa5_11eb_8467_b89a2a3bb4aarow2_col0\" class=\"data row2 col0\" >-0.331339</td>\n",
       "                        <td id=\"T_c951e762_1fa5_11eb_8467_b89a2a3bb4aarow2_col1\" class=\"data row2 col1\" >0.084153</td>\n",
       "                        <td id=\"T_c951e762_1fa5_11eb_8467_b89a2a3bb4aarow2_col2\" class=\"data row2 col2\" >1.000000</td>\n",
       "                        <td id=\"T_c951e762_1fa5_11eb_8467_b89a2a3bb4aarow2_col3\" class=\"data row2 col3\" >-0.232625</td>\n",
       "                        <td id=\"T_c951e762_1fa5_11eb_8467_b89a2a3bb4aarow2_col4\" class=\"data row2 col4\" >-0.179191</td>\n",
       "                        <td id=\"T_c951e762_1fa5_11eb_8467_b89a2a3bb4aarow2_col5\" class=\"data row2 col5\" >0.102485</td>\n",
       "                        <td id=\"T_c951e762_1fa5_11eb_8467_b89a2a3bb4aarow2_col6\" class=\"data row2 col6\" >-0.022239</td>\n",
       "            </tr>\n",
       "            <tr>\n",
       "                        <th id=\"T_c951e762_1fa5_11eb_8467_b89a2a3bb4aalevel0_row3\" class=\"row_heading level0 row3\" >SibSp</th>\n",
       "                        <td id=\"T_c951e762_1fa5_11eb_8467_b89a2a3bb4aarow3_col0\" class=\"data row3 col0\" >0.083081</td>\n",
       "                        <td id=\"T_c951e762_1fa5_11eb_8467_b89a2a3bb4aarow3_col1\" class=\"data row3 col1\" >-0.114631</td>\n",
       "                        <td id=\"T_c951e762_1fa5_11eb_8467_b89a2a3bb4aarow3_col2\" class=\"data row3 col2\" >-0.232625</td>\n",
       "                        <td id=\"T_c951e762_1fa5_11eb_8467_b89a2a3bb4aarow3_col3\" class=\"data row3 col3\" >1.000000</td>\n",
       "                        <td id=\"T_c951e762_1fa5_11eb_8467_b89a2a3bb4aarow3_col4\" class=\"data row3 col4\" >0.414838</td>\n",
       "                        <td id=\"T_c951e762_1fa5_11eb_8467_b89a2a3bb4aarow3_col5\" class=\"data row3 col5\" >0.318528</td>\n",
       "                        <td id=\"T_c951e762_1fa5_11eb_8467_b89a2a3bb4aarow3_col6\" class=\"data row3 col6\" >0.066654</td>\n",
       "            </tr>\n",
       "            <tr>\n",
       "                        <th id=\"T_c951e762_1fa5_11eb_8467_b89a2a3bb4aalevel0_row4\" class=\"row_heading level0 row4\" >Parch</th>\n",
       "                        <td id=\"T_c951e762_1fa5_11eb_8467_b89a2a3bb4aarow4_col0\" class=\"data row4 col0\" >0.018443</td>\n",
       "                        <td id=\"T_c951e762_1fa5_11eb_8467_b89a2a3bb4aarow4_col1\" class=\"data row4 col1\" >-0.245489</td>\n",
       "                        <td id=\"T_c951e762_1fa5_11eb_8467_b89a2a3bb4aarow4_col2\" class=\"data row4 col2\" >-0.179191</td>\n",
       "                        <td id=\"T_c951e762_1fa5_11eb_8467_b89a2a3bb4aarow4_col3\" class=\"data row4 col3\" >0.414838</td>\n",
       "                        <td id=\"T_c951e762_1fa5_11eb_8467_b89a2a3bb4aarow4_col4\" class=\"data row4 col4\" >1.000000</td>\n",
       "                        <td id=\"T_c951e762_1fa5_11eb_8467_b89a2a3bb4aarow4_col5\" class=\"data row4 col5\" >0.332186</td>\n",
       "                        <td id=\"T_c951e762_1fa5_11eb_8467_b89a2a3bb4aarow4_col6\" class=\"data row4 col6\" >0.038322</td>\n",
       "            </tr>\n",
       "            <tr>\n",
       "                        <th id=\"T_c951e762_1fa5_11eb_8467_b89a2a3bb4aalevel0_row5\" class=\"row_heading level0 row5\" >Fare</th>\n",
       "                        <td id=\"T_c951e762_1fa5_11eb_8467_b89a2a3bb4aarow5_col0\" class=\"data row5 col0\" >-0.661022</td>\n",
       "                        <td id=\"T_c951e762_1fa5_11eb_8467_b89a2a3bb4aarow5_col1\" class=\"data row5 col1\" >-0.263276</td>\n",
       "                        <td id=\"T_c951e762_1fa5_11eb_8467_b89a2a3bb4aarow5_col2\" class=\"data row5 col2\" >0.102485</td>\n",
       "                        <td id=\"T_c951e762_1fa5_11eb_8467_b89a2a3bb4aarow5_col3\" class=\"data row5 col3\" >0.318528</td>\n",
       "                        <td id=\"T_c951e762_1fa5_11eb_8467_b89a2a3bb4aarow5_col4\" class=\"data row5 col4\" >0.332186</td>\n",
       "                        <td id=\"T_c951e762_1fa5_11eb_8467_b89a2a3bb4aarow5_col5\" class=\"data row5 col5\" >1.000000</td>\n",
       "                        <td id=\"T_c951e762_1fa5_11eb_8467_b89a2a3bb4aarow5_col6\" class=\"data row5 col6\" >-0.197567</td>\n",
       "            </tr>\n",
       "            <tr>\n",
       "                        <th id=\"T_c951e762_1fa5_11eb_8467_b89a2a3bb4aalevel0_row6\" class=\"row_heading level0 row6\" >Embarked</th>\n",
       "                        <td id=\"T_c951e762_1fa5_11eb_8467_b89a2a3bb4aarow6_col0\" class=\"data row6 col0\" >0.157112</td>\n",
       "                        <td id=\"T_c951e762_1fa5_11eb_8467_b89a2a3bb4aarow6_col1\" class=\"data row6 col1\" >0.104057</td>\n",
       "                        <td id=\"T_c951e762_1fa5_11eb_8467_b89a2a3bb4aarow6_col2\" class=\"data row6 col2\" >-0.022239</td>\n",
       "                        <td id=\"T_c951e762_1fa5_11eb_8467_b89a2a3bb4aarow6_col3\" class=\"data row6 col3\" >0.066654</td>\n",
       "                        <td id=\"T_c951e762_1fa5_11eb_8467_b89a2a3bb4aarow6_col4\" class=\"data row6 col4\" >0.038322</td>\n",
       "                        <td id=\"T_c951e762_1fa5_11eb_8467_b89a2a3bb4aarow6_col5\" class=\"data row6 col5\" >-0.197567</td>\n",
       "                        <td id=\"T_c951e762_1fa5_11eb_8467_b89a2a3bb4aarow6_col6\" class=\"data row6 col6\" >1.000000</td>\n",
       "            </tr>\n",
       "    </tbody></table>"
      ],
      "text/plain": [
       "<pandas.io.formats.style.Styler at 0x1943da14490>"
      ]
     },
     "execution_count": 75,
     "metadata": {},
     "output_type": "execute_result"
    }
   ],
   "source": [
    "cm = sns.light_palette(\"purple\", as_cmap=True)\n",
    "corr = train_data.corr()\n",
    "corr.style.set_caption('Colormaps, with a caption.').background_gradient(cmap=cm)"
   ]
  },
  {
   "cell_type": "code",
   "execution_count": 7,
   "metadata": {},
   "outputs": [],
   "source": [
    "# Average Survival Rate of 38%\n",
    "# Age, Cabin, and Embarked Contain Null Values\n",
    "\n",
    "##77% of Train Data contains NULL values for Cabin (687) ##\n",
    "##78% of Test Data contains NULL values for Cabin (327) ##\n",
    "#####Decided to Drop Cabin Column due to significant amount of null data\n",
    "\n",
    "train_ids = train_data['PassengerId'] #Place IDs used for grading in their own DF\n",
    "test_ids = test_data['PassengerId'] # Same with Test Data for uniformity \n",
    "\n",
    "train_data = train_data.drop(columns=['PassengerId','Cabin'])\n",
    "test_data = test_data.drop(columns=['PassengerId','Cabin'])"
   ]
  },
  {
   "cell_type": "code",
   "execution_count": 8,
   "metadata": {},
   "outputs": [
    {
     "data": {
      "text/plain": [
       "<matplotlib.axes._subplots.AxesSubplot at 0x1943b0c3ee0>"
      ]
     },
     "execution_count": 8,
     "metadata": {},
     "output_type": "execute_result"
    },
    {
     "data": {
      "image/png": "[encoded data removed]",
      "text/plain": [
       "<Figure size 432x288 with 1 Axes>"
      ]
     },
     "metadata": {
      "needs_background": "light"
     },
     "output_type": "display_data"
    }
   ],
   "source": [
    "sns.countplot(train_data['Survived'],palette=[\"tomato\", \"lightgreen\"])"
   ]
  },
  {
   "cell_type": "code",
   "execution_count": 9,
   "metadata": {},
   "outputs": [],
   "source": [
    "## Use the Label Encoder to Set Sex to a Binary Value\n",
    "le = LabelEncoder()\n",
    "train_data['Sex'] = le.fit_transform(train_data.Sex) #Male as 1, Female as 0\n",
    "test_data['Sex'] = le.transform(test_data.Sex)       #Male as 1, Female as 0"
   ]
  },
  {
   "cell_type": "code",
   "execution_count": 10,
   "metadata": {},
   "outputs": [
    {
     "data": {
      "image/png": "[encoded data removed]",
      "text/plain": [
       "<Figure size 504x360 with 1 Axes>"
      ]
     },
     "metadata": {
      "needs_background": "light"
     },
     "output_type": "display_data"
    }
   ],
   "source": [
    "#### Notes the correlation between gender in each class, and their survival rate\n",
    "plt.figure(figsize=(7,5))\n",
    "plt.ylim(0.0, 1.0)\n",
    "plt.xlim(1, 3)\n",
    "sns.set_style(\"whitegrid\")\n",
    "group = sns.barplot(x=train_data.Pclass, y=train_data.Survived, hue=train_data.Sex, palette=[\"lightpink\",\"skyblue\",], ci=None)\n",
    "## Females are much more likely to survive, even at a higher rate at lower classes than men from higher classes"
   ]
  },
  {
   "cell_type": "code",
   "execution_count": 11,
   "metadata": {
    "scrolled": true
   },
   "outputs": [
    {
     "data": {
      "text/plain": [
       "<matplotlib.axes._subplots.AxesSubplot at 0x1943b8b0400>"
      ]
     },
     "execution_count": 11,
     "metadata": {},
     "output_type": "execute_result"
    },
    {
     "data": {
      "image/png": "[encoded data removed]",
      "text/plain": [
       "<Figure size 432x288 with 1 Axes>"
      ]
     },
     "metadata": {},
     "output_type": "display_data"
    }
   ],
   "source": [
    "sns.distplot(train_data['Age'])\n",
    "##Follows a normal distribution with a notable bump for very young children"
   ]
  },
  {
   "cell_type": "code",
   "execution_count": 12,
   "metadata": {},
   "outputs": [],
   "source": [
    "##19% of Train Data contains NULL values for Age (177) ##\n",
    "##20% of Test Data contains NULL values for Age (86) ##\n",
    "#####Decided to replace Null Values with the average passanger age\n",
    "##Should also try median to see if that improves the accuracy?\n",
    "\n",
    "train_data.Age = train_data.Age.fillna(train_data.Age.mean())\n",
    "test_data.Age = test_data.Age.fillna(test_data.Age.mean())"
   ]
  },
  {
   "cell_type": "code",
   "execution_count": 13,
   "metadata": {},
   "outputs": [],
   "source": [
    "### Name and Ticket data\n",
    "# Due to unknown way to work with the Ticket values as they are seemingly ungrouped and no notable naming convention, \n",
    "#     they are dropped\n",
    "# The only notable value from the Name would be the title (Mr, Mrs, Miss) but this is primarily \n",
    "#    inferred from gender, age, and Parch, so it is dropped as well\n",
    "train_data = train_data.drop(columns=['Name', 'Ticket'])\n",
    "test_data = test_data.drop(columns=['Name', 'Ticket'])"
   ]
  },
  {
   "cell_type": "code",
   "execution_count": 14,
   "metadata": {},
   "outputs": [
    {
     "data": {
      "text/plain": [
       "<matplotlib.axes._subplots.AxesSubplot at 0x1943b94a7f0>"
      ]
     },
     "execution_count": 14,
     "metadata": {},
     "output_type": "execute_result"
    },
    {
     "data": {
      "image/png": "[encoded data removed]",
      "text/plain": [
       "<Figure size 432x288 with 1 Axes>"
      ]
     },
     "metadata": {},
     "output_type": "display_data"
    }
   ],
   "source": [
    "test_data.Fare = test_data.Fare.fillna(test_data.Fare.median())\n",
    "sns.distplot(train_data['Fare'])\n",
    "# Filled Fare with the median for any null values due it not being normally distributed\n",
    "# Fare is not evenly distributed so normalization should be done"
   ]
  },
  {
   "cell_type": "code",
   "execution_count": 15,
   "metadata": {},
   "outputs": [],
   "source": [
    "train_data['Fare'] = np.log(train_data.Fare+1)\n",
    "test_data['Fare'] = np.log(test_data.Fare+1)"
   ]
  },
  {
   "cell_type": "code",
   "execution_count": 16,
   "metadata": {},
   "outputs": [
    {
     "data": {
      "text/plain": [
       "<matplotlib.axes._subplots.AxesSubplot at 0x1943b89a9d0>"
      ]
     },
     "execution_count": 16,
     "metadata": {},
     "output_type": "execute_result"
    },
    {
     "data": {
      "image/png": "[encoded data removed]",
      "text/plain": [
       "<Figure size 432x288 with 1 Axes>"
      ]
     },
     "metadata": {},
     "output_type": "display_data"
    }
   ],
   "source": [
    "test_data['Fare'].hist()"
   ]
  },
  {
   "cell_type": "code",
   "execution_count": 17,
   "metadata": {},
   "outputs": [],
   "source": [
    "##Embarked should be transformed into an integer value for easier comparison\n",
    "\n",
    "train_data['Embarked'] = le.fit_transform(train_data.Embarked.astype(str))\n",
    "test_data['Embarked'] = le.transform(test_data.Embarked.astype(str))\n",
    "\n",
    "#0.2% of Train Data contains NULL values for Embarked (2) ##\n",
    "#####Decided to replace Null Embarked with the mode of Embarked\n",
    "train_data.Embarked = train_data.Embarked.fillna(train_data.Embarked.mode())"
   ]
  },
  {
   "cell_type": "code",
   "execution_count": 18,
   "metadata": {},
   "outputs": [
    {
     "data": {
      "text/plain": [
       "<matplotlib.axes._subplots.AxesSubplot at 0x1943baa8bb0>"
      ]
     },
     "execution_count": 18,
     "metadata": {},
     "output_type": "execute_result"
    },
    {
     "data": {
      "image/png": "[encoded data removed]",
      "text/plain": [
       "<Figure size 432x288 with 1 Axes>"
      ]
     },
     "metadata": {},
     "output_type": "display_data"
    }
   ],
   "source": [
    "sns.barplot(x=train_data.Embarked, y=train_data.Survived, ci=None)"
   ]
  },
  {
   "cell_type": "code",
   "execution_count": 19,
   "metadata": {
    "scrolled": true
   },
   "outputs": [
    {
     "data": {
      "text/plain": [
       "0    549\n",
       "1    342\n",
       "Name: Survived, dtype: int64"
      ]
     },
     "execution_count": 19,
     "metadata": {},
     "output_type": "execute_result"
    }
   ],
   "source": [
    "##Copied all Survived \n",
    "df_survived = train_data.Survived\n",
    "train_data = train_data.drop(columns=['Survived'])\n",
    "df_survived.value_counts()"
   ]
  },
  {
   "cell_type": "code",
   "execution_count": 20,
   "metadata": {
    "scrolled": true
   },
   "outputs": [
    {
     "data": {
      "text/plain": [
       "(891,)"
      ]
     },
     "execution_count": 20,
     "metadata": {},
     "output_type": "execute_result"
    }
   ],
   "source": [
    "X_train = train_data\n",
    "X_test = test_data\n",
    "\n",
    "y_train = df_survived\n",
    "y_train.shape"
   ]
  },
  {
   "cell_type": "markdown",
   "metadata": {},
   "source": [
    "<B>Model Building</B>"
   ]
  },
  {
   "cell_type": "code",
   "execution_count": 21,
   "metadata": {},
   "outputs": [],
   "source": [
    "sc = StandardScaler()\n",
    "X_train_scaled = X_train\n",
    "X_train_scaled[['Age','SibSp','Parch','Fare']]= sc.fit_transform(X_train_scaled[['Age','SibSp','Parch','Fare']])\n",
    "X_test_scaled = X_test.copy()\n",
    "X_test_scaled[['Age','SibSp','Parch','Fare']]= sc.fit_transform(X_test_scaled[['Age','SibSp','Parch','Fare']])"
   ]
  },
  {
   "cell_type": "code",
   "execution_count": 22,
   "metadata": {},
   "outputs": [
    {
     "name": "stdout",
     "output_type": "stream",
     "text": [
      "[0.74444444 0.85393258 0.71910112 0.80898876 0.86516854 0.80898876\n",
      " 0.83146067 0.78651685 0.82022472 0.79775281]\n",
      "0.8036579275905119\n"
     ]
    }
   ],
   "source": [
    "knn = KNeighborsClassifier()\n",
    "cv = cross_val_score(knn,X_train_scaled,y_train,cv=10)\n",
    "print(cv)\n",
    "print(cv.mean())"
   ]
  },
  {
   "cell_type": "code",
   "execution_count": 23,
   "metadata": {},
   "outputs": [
    {
     "name": "stdout",
     "output_type": "stream",
     "text": [
      "[0.81111111 0.85393258 0.7752809  0.87640449 0.82022472 0.79775281\n",
      " 0.82022472 0.78651685 0.84269663 0.84269663]\n",
      "0.8226841448189763\n"
     ]
    }
   ],
   "source": [
    "svc = SVC(probability = True)\n",
    "cv = cross_val_score(svc,X_train_scaled,y_train,cv=10)\n",
    "print(cv)\n",
    "print(cv.mean())"
   ]
  },
  {
   "cell_type": "code",
   "execution_count": 24,
   "metadata": {},
   "outputs": [],
   "source": [
    "##################### Training and Predictions ###############\n",
    "##############################################################"
   ]
  },
  {
   "cell_type": "code",
   "execution_count": 25,
   "metadata": {},
   "outputs": [],
   "source": [
    "X_train = sc.fit_transform(X_train)\n",
    "test_transformed = sc.transform(test_data)"
   ]
  },
  {
   "cell_type": "code",
   "execution_count": 28,
   "metadata": {},
   "outputs": [
    {
     "data": {
      "text/plain": [
       "KNeighborsClassifier(n_neighbors=1)"
      ]
     },
     "execution_count": 28,
     "metadata": {},
     "output_type": "execute_result"
    }
   ],
   "source": [
    "knn = KNeighborsClassifier(n_neighbors=1)\n",
    "knn.fit(X_train_scaled, y_train)"
   ]
  },
  {
   "cell_type": "code",
   "execution_count": 42,
   "metadata": {},
   "outputs": [],
   "source": [
    "test_knn_pred = knn.predict(X_test_scaled)"
   ]
  },
  {
   "cell_type": "code",
   "execution_count": 53,
   "metadata": {},
   "outputs": [],
   "source": [
    "data = []\n",
    "knn_pred_df = pd.DataFrame(data, columns=[])\n",
    "knn_pred_df['PassengerId'] = test_ids;\n",
    "knn_pred_df['Survived'] = test_knn_pred"
   ]
  },
  {
   "cell_type": "code",
   "execution_count": 80,
   "metadata": {},
   "outputs": [
    {
     "data": {
      "text/html": [
       "<div>\n",
       "<style scoped>\n",
       "    .dataframe tbody tr th:only-of-type {\n",
       "        vertical-align: middle;\n",
       "    }\n",
       "\n",
       "    .dataframe tbody tr th {\n",
       "        vertical-align: top;\n",
       "    }\n",
       "\n",
       "    .dataframe thead th {\n",
       "        text-align: right;\n",
       "    }\n",
       "</style>\n",
       "<table border=\"1\" class=\"dataframe\">\n",
       "  <thead>\n",
       "    <tr style=\"text-align: right;\">\n",
       "      <th></th>\n",
       "      <th>PassengerId</th>\n",
       "      <th>Survived</th>\n",
       "    </tr>\n",
       "  </thead>\n",
       "  <tbody>\n",
       "    <tr>\n",
       "      <th>0</th>\n",
       "      <td>892</td>\n",
       "      <td>0</td>\n",
       "    </tr>\n",
       "    <tr>\n",
       "      <th>1</th>\n",
       "      <td>893</td>\n",
       "      <td>0</td>\n",
       "    </tr>\n",
       "    <tr>\n",
       "      <th>2</th>\n",
       "      <td>894</td>\n",
       "      <td>0</td>\n",
       "    </tr>\n",
       "    <tr>\n",
       "      <th>3</th>\n",
       "      <td>895</td>\n",
       "      <td>0</td>\n",
       "    </tr>\n",
       "    <tr>\n",
       "      <th>4</th>\n",
       "      <td>896</td>\n",
       "      <td>0</td>\n",
       "    </tr>\n",
       "    <tr>\n",
       "      <th>...</th>\n",
       "      <td>...</td>\n",
       "      <td>...</td>\n",
       "    </tr>\n",
       "    <tr>\n",
       "      <th>413</th>\n",
       "      <td>1305</td>\n",
       "      <td>0</td>\n",
       "    </tr>\n",
       "    <tr>\n",
       "      <th>414</th>\n",
       "      <td>1306</td>\n",
       "      <td>1</td>\n",
       "    </tr>\n",
       "    <tr>\n",
       "      <th>415</th>\n",
       "      <td>1307</td>\n",
       "      <td>0</td>\n",
       "    </tr>\n",
       "    <tr>\n",
       "      <th>416</th>\n",
       "      <td>1308</td>\n",
       "      <td>0</td>\n",
       "    </tr>\n",
       "    <tr>\n",
       "      <th>417</th>\n",
       "      <td>1309</td>\n",
       "      <td>1</td>\n",
       "    </tr>\n",
       "  </tbody>\n",
       "</table>\n",
       "<p>418 rows × 2 columns</p>\n",
       "</div>"
      ],
      "text/plain": [
       "     PassengerId  Survived\n",
       "0            892         0\n",
       "1            893         0\n",
       "2            894         0\n",
       "3            895         0\n",
       "4            896         0\n",
       "..           ...       ...\n",
       "413         1305         0\n",
       "414         1306         1\n",
       "415         1307         0\n",
       "416         1308         0\n",
       "417         1309         1\n",
       "\n",
       "[418 rows x 2 columns]"
      ]
     },
     "execution_count": 80,
     "metadata": {},
     "output_type": "execute_result"
    }
   ],
   "source": [
    "knn_pred_df"
   ]
  },
  {
   "cell_type": "code",
   "execution_count": 55,
   "metadata": {},
   "outputs": [],
   "source": [
    "#knn_pred_df.to_csv('knn_prediction.csv', index=False)\n",
    "## KNN Model that produces results of about ~70.5% Accuracy"
   ]
  },
  {
   "cell_type": "code",
   "execution_count": 71,
   "metadata": {},
   "outputs": [],
   "source": [
    "svc.fit(X_train_scaled, y_train)\n",
    "test_svc_pred = svc.predict(X_test_scaled)"
   ]
  },
  {
   "cell_type": "code",
   "execution_count": 72,
   "metadata": {},
   "outputs": [],
   "source": [
    "svc_pred_df = pd.DataFrame(data, columns=[])\n",
    "svc_pred_df['PassengerId'] = test_ids;\n",
    "svc_pred_df['Survived'] = test_svc_pred\n",
    "#test_svc_pred"
   ]
  },
  {
   "cell_type": "code",
   "execution_count": 73,
   "metadata": {},
   "outputs": [],
   "source": [
    "#svc_pred_df.to_csv('svc_prediction.csv', index=False)\n",
    "## SVC Model that produces results of about ~78.2% Accuracy"
   ]
  }
 ],
 "metadata": {
  "kernelspec": {
   "display_name": "Python 3",
   "language": "python",
   "name": "python3"
  },
  "language_info": {
   "codemirror_mode": {
    "name": "ipython",
    "version": 3
   },
   "file_extension": ".py",
   "mimetype": "text/x-python",
   "name": "python",
   "nbconvert_exporter": "python",
   "pygments_lexer": "ipython3",
   "version": "3.8.3"
  }
 },
 "nbformat": 4,
 "nbformat_minor": 4
}
