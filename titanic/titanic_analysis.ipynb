{
 "cells": [
  {
   "cell_type": "code",
   "execution_count": 1,
   "metadata": {},
   "outputs": [],
   "source": [
    "import pandas as pd\n",
    "pd.plotting.register_matplotlib_converters()\n",
    "import matplotlib.pyplot as plt\n",
    "%matplotlib inline\n",
    "import seaborn as sns"
   ]
  },
  {
   "cell_type": "code",
   "execution_count": 36,
   "metadata": {
    "scrolled": true
   },
   "outputs": [
    {
     "name": "stdout",
     "output_type": "stream",
     "text": [
      "     PassengerId  Survived  Pclass  \\\n",
      "0              1         0       3   \n",
      "1              2         1       1   \n",
      "2              3         1       3   \n",
      "3              4         1       1   \n",
      "4              5         0       3   \n",
      "..           ...       ...     ...   \n",
      "886          887         0       2   \n",
      "887          888         1       1   \n",
      "888          889         0       3   \n",
      "889          890         1       1   \n",
      "890          891         0       3   \n",
      "\n",
      "                                                  Name     Sex   Age  SibSp  \\\n",
      "0                              Braund, Mr. Owen Harris    male  22.0      1   \n",
      "1    Cumings, Mrs. John Bradley (Florence Briggs Th...  female  38.0      1   \n",
      "2                               Heikkinen, Miss. Laina  female  26.0      0   \n",
      "3         Futrelle, Mrs. Jacques Heath (Lily May Peel)  female  35.0      1   \n",
      "4                             Allen, Mr. William Henry    male  35.0      0   \n",
      "..                                                 ...     ...   ...    ...   \n",
      "886                              Montvila, Rev. Juozas    male  27.0      0   \n",
      "887                       Graham, Miss. Margaret Edith  female  19.0      0   \n",
      "888           Johnston, Miss. Catherine Helen \"Carrie\"  female   NaN      1   \n",
      "889                              Behr, Mr. Karl Howell    male  26.0      0   \n",
      "890                                Dooley, Mr. Patrick    male  32.0      0   \n",
      "\n",
      "     Parch            Ticket     Fare Cabin Embarked  \n",
      "0        0         A/5 21171   7.2500   NaN        S  \n",
      "1        0          PC 17599  71.2833   C85        C  \n",
      "2        0  STON/O2. 3101282   7.9250   NaN        S  \n",
      "3        0            113803  53.1000  C123        S  \n",
      "4        0            373450   8.0500   NaN        S  \n",
      "..     ...               ...      ...   ...      ...  \n",
      "886      0            211536  13.0000   NaN        S  \n",
      "887      0            112053  30.0000   B42        S  \n",
      "888      2        W./C. 6607  23.4500   NaN        S  \n",
      "889      0            111369  30.0000  C148        C  \n",
      "890      0            370376   7.7500   NaN        Q  \n",
      "\n",
      "[891 rows x 12 columns]\n"
     ]
    }
   ],
   "source": [
    "test_data = pd.read_csv('data-sets/test.csv')\n",
    "train_data = pd.read_csv('data-sets/train.csv')\n",
    "\n",
    "print(train_data)\n",
    "#test_data.head()\n",
    "#train_data.head()\n",
    "#print(test_data)"
   ]
  },
  {
   "cell_type": "code",
   "execution_count": 37,
   "metadata": {},
   "outputs": [
    {
     "data": {
      "text/html": [
       "<style  type=\"text/css\" >\n",
       "    #T_21cb14e2_04e5_11eb_8669_2cf05d3e4f1brow0_col0 {\n",
       "            background-color:  #008000;\n",
       "            color:  #f1f1f1;\n",
       "        }    #T_21cb14e2_04e5_11eb_8669_2cf05d3e4f1brow0_col1 {\n",
       "            background-color:  #ade0ad;\n",
       "            color:  #000000;\n",
       "        }    #T_21cb14e2_04e5_11eb_8669_2cf05d3e4f1brow0_col2 {\n",
       "            background-color:  #9ad59a;\n",
       "            color:  #000000;\n",
       "        }    #T_21cb14e2_04e5_11eb_8669_2cf05d3e4f1brow0_col3 {\n",
       "            background-color:  #a2daa2;\n",
       "            color:  #000000;\n",
       "        }    #T_21cb14e2_04e5_11eb_8669_2cf05d3e4f1brow0_col4 {\n",
       "            background-color:  #b9e7b9;\n",
       "            color:  #000000;\n",
       "        }    #T_21cb14e2_04e5_11eb_8669_2cf05d3e4f1brow0_col5 {\n",
       "            background-color:  #c2ebc2;\n",
       "            color:  #000000;\n",
       "        }    #T_21cb14e2_04e5_11eb_8669_2cf05d3e4f1brow0_col6 {\n",
       "            background-color:  #93d193;\n",
       "            color:  #000000;\n",
       "        }    #T_21cb14e2_04e5_11eb_8669_2cf05d3e4f1brow1_col0 {\n",
       "            background-color:  #dbf9db;\n",
       "            color:  #000000;\n",
       "        }    #T_21cb14e2_04e5_11eb_8669_2cf05d3e4f1brow1_col1 {\n",
       "            background-color:  #008000;\n",
       "            color:  #f1f1f1;\n",
       "        }    #T_21cb14e2_04e5_11eb_8669_2cf05d3e4f1brow1_col2 {\n",
       "            background-color:  #c7eec7;\n",
       "            color:  #000000;\n",
       "        }    #T_21cb14e2_04e5_11eb_8669_2cf05d3e4f1brow1_col3 {\n",
       "            background-color:  #b5e4b5;\n",
       "            color:  #000000;\n",
       "        }    #T_21cb14e2_04e5_11eb_8669_2cf05d3e4f1brow1_col4 {\n",
       "            background-color:  #b6e5b6;\n",
       "            color:  #000000;\n",
       "        }    #T_21cb14e2_04e5_11eb_8669_2cf05d3e4f1brow1_col5 {\n",
       "            background-color:  #b1e2b1;\n",
       "            color:  #000000;\n",
       "        }    #T_21cb14e2_04e5_11eb_8669_2cf05d3e4f1brow1_col6 {\n",
       "            background-color:  #6ebd6e;\n",
       "            color:  #000000;\n",
       "        }    #T_21cb14e2_04e5_11eb_8669_2cf05d3e4f1brow2_col0 {\n",
       "            background-color:  #e1fde1;\n",
       "            color:  #000000;\n",
       "        }    #T_21cb14e2_04e5_11eb_8669_2cf05d3e4f1brow2_col1 {\n",
       "            background-color:  #e5ffe5;\n",
       "            color:  #000000;\n",
       "        }    #T_21cb14e2_04e5_11eb_8669_2cf05d3e4f1brow2_col2 {\n",
       "            background-color:  #008000;\n",
       "            color:  #f1f1f1;\n",
       "        }    #T_21cb14e2_04e5_11eb_8669_2cf05d3e4f1brow2_col3 {\n",
       "            background-color:  #e5ffe5;\n",
       "            color:  #000000;\n",
       "        }    #T_21cb14e2_04e5_11eb_8669_2cf05d3e4f1brow2_col4 {\n",
       "            background-color:  #a1d9a1;\n",
       "            color:  #000000;\n",
       "        }    #T_21cb14e2_04e5_11eb_8669_2cf05d3e4f1brow2_col5 {\n",
       "            background-color:  #bee9be;\n",
       "            color:  #000000;\n",
       "        }    #T_21cb14e2_04e5_11eb_8669_2cf05d3e4f1brow2_col6 {\n",
       "            background-color:  #e5ffe5;\n",
       "            color:  #000000;\n",
       "        }    #T_21cb14e2_04e5_11eb_8669_2cf05d3e4f1brow3_col0 {\n",
       "            background-color:  #d2f4d2;\n",
       "            color:  #000000;\n",
       "        }    #T_21cb14e2_04e5_11eb_8669_2cf05d3e4f1brow3_col1 {\n",
       "            background-color:  #b9e7b9;\n",
       "            color:  #000000;\n",
       "        }    #T_21cb14e2_04e5_11eb_8669_2cf05d3e4f1brow3_col2 {\n",
       "            background-color:  #cbf1cb;\n",
       "            color:  #000000;\n",
       "        }    #T_21cb14e2_04e5_11eb_8669_2cf05d3e4f1brow3_col3 {\n",
       "            background-color:  #008000;\n",
       "            color:  #f1f1f1;\n",
       "        }    #T_21cb14e2_04e5_11eb_8669_2cf05d3e4f1brow3_col4 {\n",
       "            background-color:  #e5ffe5;\n",
       "            color:  #000000;\n",
       "        }    #T_21cb14e2_04e5_11eb_8669_2cf05d3e4f1brow3_col5 {\n",
       "            background-color:  #e5ffe5;\n",
       "            color:  #000000;\n",
       "        }    #T_21cb14e2_04e5_11eb_8669_2cf05d3e4f1brow3_col6 {\n",
       "            background-color:  #86ca86;\n",
       "            color:  #000000;\n",
       "        }    #T_21cb14e2_04e5_11eb_8669_2cf05d3e4f1brow4_col0 {\n",
       "            background-color:  #e5ffe5;\n",
       "            color:  #000000;\n",
       "        }    #T_21cb14e2_04e5_11eb_8669_2cf05d3e4f1brow4_col1 {\n",
       "            background-color:  #b2e3b2;\n",
       "            color:  #000000;\n",
       "        }    #T_21cb14e2_04e5_11eb_8669_2cf05d3e4f1brow4_col2 {\n",
       "            background-color:  #88cb88;\n",
       "            color:  #000000;\n",
       "        }    #T_21cb14e2_04e5_11eb_8669_2cf05d3e4f1brow4_col3 {\n",
       "            background-color:  #dcfadc;\n",
       "            color:  #000000;\n",
       "        }    #T_21cb14e2_04e5_11eb_8669_2cf05d3e4f1brow4_col4 {\n",
       "            background-color:  #008000;\n",
       "            color:  #f1f1f1;\n",
       "        }    #T_21cb14e2_04e5_11eb_8669_2cf05d3e4f1brow4_col5 {\n",
       "            background-color:  #70be70;\n",
       "            color:  #000000;\n",
       "        }    #T_21cb14e2_04e5_11eb_8669_2cf05d3e4f1brow4_col6 {\n",
       "            background-color:  #7cc57c;\n",
       "            color:  #000000;\n",
       "        }    #T_21cb14e2_04e5_11eb_8669_2cf05d3e4f1brow5_col0 {\n",
       "            background-color:  #daf9da;\n",
       "            color:  #000000;\n",
       "        }    #T_21cb14e2_04e5_11eb_8669_2cf05d3e4f1brow5_col1 {\n",
       "            background-color:  #9ed79e;\n",
       "            color:  #000000;\n",
       "        }    #T_21cb14e2_04e5_11eb_8669_2cf05d3e4f1brow5_col2 {\n",
       "            background-color:  #92d192;\n",
       "            color:  #000000;\n",
       "        }    #T_21cb14e2_04e5_11eb_8669_2cf05d3e4f1brow5_col3 {\n",
       "            background-color:  #c8efc8;\n",
       "            color:  #000000;\n",
       "        }    #T_21cb14e2_04e5_11eb_8669_2cf05d3e4f1brow5_col4 {\n",
       "            background-color:  #67b967;\n",
       "            color:  #000000;\n",
       "        }    #T_21cb14e2_04e5_11eb_8669_2cf05d3e4f1brow5_col5 {\n",
       "            background-color:  #008000;\n",
       "            color:  #f1f1f1;\n",
       "        }    #T_21cb14e2_04e5_11eb_8669_2cf05d3e4f1brow5_col6 {\n",
       "            background-color:  #74c074;\n",
       "            color:  #000000;\n",
       "        }    #T_21cb14e2_04e5_11eb_8669_2cf05d3e4f1brow6_col0 {\n",
       "            background-color:  #d7f7d7;\n",
       "            color:  #000000;\n",
       "        }    #T_21cb14e2_04e5_11eb_8669_2cf05d3e4f1brow6_col1 {\n",
       "            background-color:  #80c780;\n",
       "            color:  #000000;\n",
       "        }    #T_21cb14e2_04e5_11eb_8669_2cf05d3e4f1brow6_col2 {\n",
       "            background-color:  #e5ffe5;\n",
       "            color:  #000000;\n",
       "        }    #T_21cb14e2_04e5_11eb_8669_2cf05d3e4f1brow6_col3 {\n",
       "            background-color:  #98d498;\n",
       "            color:  #000000;\n",
       "        }    #T_21cb14e2_04e5_11eb_8669_2cf05d3e4f1brow6_col4 {\n",
       "            background-color:  #94d294;\n",
       "            color:  #000000;\n",
       "        }    #T_21cb14e2_04e5_11eb_8669_2cf05d3e4f1brow6_col5 {\n",
       "            background-color:  #97d497;\n",
       "            color:  #000000;\n",
       "        }    #T_21cb14e2_04e5_11eb_8669_2cf05d3e4f1brow6_col6 {\n",
       "            background-color:  #008000;\n",
       "            color:  #f1f1f1;\n",
       "        }</style><table id=\"T_21cb14e2_04e5_11eb_8669_2cf05d3e4f1b\" ><caption>Colormaps, with a caption.</caption><thead>    <tr>        <th class=\"blank level0\" ></th>        <th class=\"col_heading level0 col0\" >PassengerId</th>        <th class=\"col_heading level0 col1\" >Survived</th>        <th class=\"col_heading level0 col2\" >Pclass</th>        <th class=\"col_heading level0 col3\" >Age</th>        <th class=\"col_heading level0 col4\" >SibSp</th>        <th class=\"col_heading level0 col5\" >Parch</th>        <th class=\"col_heading level0 col6\" >Fare</th>    </tr></thead><tbody>\n",
       "                <tr>\n",
       "                        <th id=\"T_21cb14e2_04e5_11eb_8669_2cf05d3e4f1blevel0_row0\" class=\"row_heading level0 row0\" >PassengerId</th>\n",
       "                        <td id=\"T_21cb14e2_04e5_11eb_8669_2cf05d3e4f1brow0_col0\" class=\"data row0 col0\" >1.000000</td>\n",
       "                        <td id=\"T_21cb14e2_04e5_11eb_8669_2cf05d3e4f1brow0_col1\" class=\"data row0 col1\" >-0.005007</td>\n",
       "                        <td id=\"T_21cb14e2_04e5_11eb_8669_2cf05d3e4f1brow0_col2\" class=\"data row0 col2\" >-0.035144</td>\n",
       "                        <td id=\"T_21cb14e2_04e5_11eb_8669_2cf05d3e4f1brow0_col3\" class=\"data row0 col3\" >0.036847</td>\n",
       "                        <td id=\"T_21cb14e2_04e5_11eb_8669_2cf05d3e4f1brow0_col4\" class=\"data row0 col4\" >-0.057527</td>\n",
       "                        <td id=\"T_21cb14e2_04e5_11eb_8669_2cf05d3e4f1brow0_col5\" class=\"data row0 col5\" >-0.001652</td>\n",
       "                        <td id=\"T_21cb14e2_04e5_11eb_8669_2cf05d3e4f1brow0_col6\" class=\"data row0 col6\" >0.012658</td>\n",
       "            </tr>\n",
       "            <tr>\n",
       "                        <th id=\"T_21cb14e2_04e5_11eb_8669_2cf05d3e4f1blevel0_row1\" class=\"row_heading level0 row1\" >Survived</th>\n",
       "                        <td id=\"T_21cb14e2_04e5_11eb_8669_2cf05d3e4f1brow1_col0\" class=\"data row1 col0\" >-0.005007</td>\n",
       "                        <td id=\"T_21cb14e2_04e5_11eb_8669_2cf05d3e4f1brow1_col1\" class=\"data row1 col1\" >1.000000</td>\n",
       "                        <td id=\"T_21cb14e2_04e5_11eb_8669_2cf05d3e4f1brow1_col2\" class=\"data row1 col2\" >-0.338481</td>\n",
       "                        <td id=\"T_21cb14e2_04e5_11eb_8669_2cf05d3e4f1brow1_col3\" class=\"data row1 col3\" >-0.077221</td>\n",
       "                        <td id=\"T_21cb14e2_04e5_11eb_8669_2cf05d3e4f1brow1_col4\" class=\"data row1 col4\" >-0.035322</td>\n",
       "                        <td id=\"T_21cb14e2_04e5_11eb_8669_2cf05d3e4f1brow1_col5\" class=\"data row1 col5\" >0.081629</td>\n",
       "                        <td id=\"T_21cb14e2_04e5_11eb_8669_2cf05d3e4f1brow1_col6\" class=\"data row1 col6\" >0.257307</td>\n",
       "            </tr>\n",
       "            <tr>\n",
       "                        <th id=\"T_21cb14e2_04e5_11eb_8669_2cf05d3e4f1blevel0_row2\" class=\"row_heading level0 row2\" >Pclass</th>\n",
       "                        <td id=\"T_21cb14e2_04e5_11eb_8669_2cf05d3e4f1brow2_col0\" class=\"data row2 col0\" >-0.035144</td>\n",
       "                        <td id=\"T_21cb14e2_04e5_11eb_8669_2cf05d3e4f1brow2_col1\" class=\"data row2 col1\" >-0.338481</td>\n",
       "                        <td id=\"T_21cb14e2_04e5_11eb_8669_2cf05d3e4f1brow2_col2\" class=\"data row2 col2\" >1.000000</td>\n",
       "                        <td id=\"T_21cb14e2_04e5_11eb_8669_2cf05d3e4f1brow2_col3\" class=\"data row2 col3\" >-0.369226</td>\n",
       "                        <td id=\"T_21cb14e2_04e5_11eb_8669_2cf05d3e4f1brow2_col4\" class=\"data row2 col4\" >0.083081</td>\n",
       "                        <td id=\"T_21cb14e2_04e5_11eb_8669_2cf05d3e4f1brow2_col5\" class=\"data row2 col5\" >0.018443</td>\n",
       "                        <td id=\"T_21cb14e2_04e5_11eb_8669_2cf05d3e4f1brow2_col6\" class=\"data row2 col6\" >-0.549500</td>\n",
       "            </tr>\n",
       "            <tr>\n",
       "                        <th id=\"T_21cb14e2_04e5_11eb_8669_2cf05d3e4f1blevel0_row3\" class=\"row_heading level0 row3\" >Age</th>\n",
       "                        <td id=\"T_21cb14e2_04e5_11eb_8669_2cf05d3e4f1brow3_col0\" class=\"data row3 col0\" >0.036847</td>\n",
       "                        <td id=\"T_21cb14e2_04e5_11eb_8669_2cf05d3e4f1brow3_col1\" class=\"data row3 col1\" >-0.077221</td>\n",
       "                        <td id=\"T_21cb14e2_04e5_11eb_8669_2cf05d3e4f1brow3_col2\" class=\"data row3 col2\" >-0.369226</td>\n",
       "                        <td id=\"T_21cb14e2_04e5_11eb_8669_2cf05d3e4f1brow3_col3\" class=\"data row3 col3\" >1.000000</td>\n",
       "                        <td id=\"T_21cb14e2_04e5_11eb_8669_2cf05d3e4f1brow3_col4\" class=\"data row3 col4\" >-0.308247</td>\n",
       "                        <td id=\"T_21cb14e2_04e5_11eb_8669_2cf05d3e4f1brow3_col5\" class=\"data row3 col5\" >-0.189119</td>\n",
       "                        <td id=\"T_21cb14e2_04e5_11eb_8669_2cf05d3e4f1brow3_col6\" class=\"data row3 col6\" >0.096067</td>\n",
       "            </tr>\n",
       "            <tr>\n",
       "                        <th id=\"T_21cb14e2_04e5_11eb_8669_2cf05d3e4f1blevel0_row4\" class=\"row_heading level0 row4\" >SibSp</th>\n",
       "                        <td id=\"T_21cb14e2_04e5_11eb_8669_2cf05d3e4f1brow4_col0\" class=\"data row4 col0\" >-0.057527</td>\n",
       "                        <td id=\"T_21cb14e2_04e5_11eb_8669_2cf05d3e4f1brow4_col1\" class=\"data row4 col1\" >-0.035322</td>\n",
       "                        <td id=\"T_21cb14e2_04e5_11eb_8669_2cf05d3e4f1brow4_col2\" class=\"data row4 col2\" >0.083081</td>\n",
       "                        <td id=\"T_21cb14e2_04e5_11eb_8669_2cf05d3e4f1brow4_col3\" class=\"data row4 col3\" >-0.308247</td>\n",
       "                        <td id=\"T_21cb14e2_04e5_11eb_8669_2cf05d3e4f1brow4_col4\" class=\"data row4 col4\" >1.000000</td>\n",
       "                        <td id=\"T_21cb14e2_04e5_11eb_8669_2cf05d3e4f1brow4_col5\" class=\"data row4 col5\" >0.414838</td>\n",
       "                        <td id=\"T_21cb14e2_04e5_11eb_8669_2cf05d3e4f1brow4_col6\" class=\"data row4 col6\" >0.159651</td>\n",
       "            </tr>\n",
       "            <tr>\n",
       "                        <th id=\"T_21cb14e2_04e5_11eb_8669_2cf05d3e4f1blevel0_row5\" class=\"row_heading level0 row5\" >Parch</th>\n",
       "                        <td id=\"T_21cb14e2_04e5_11eb_8669_2cf05d3e4f1brow5_col0\" class=\"data row5 col0\" >-0.001652</td>\n",
       "                        <td id=\"T_21cb14e2_04e5_11eb_8669_2cf05d3e4f1brow5_col1\" class=\"data row5 col1\" >0.081629</td>\n",
       "                        <td id=\"T_21cb14e2_04e5_11eb_8669_2cf05d3e4f1brow5_col2\" class=\"data row5 col2\" >0.018443</td>\n",
       "                        <td id=\"T_21cb14e2_04e5_11eb_8669_2cf05d3e4f1brow5_col3\" class=\"data row5 col3\" >-0.189119</td>\n",
       "                        <td id=\"T_21cb14e2_04e5_11eb_8669_2cf05d3e4f1brow5_col4\" class=\"data row5 col4\" >0.414838</td>\n",
       "                        <td id=\"T_21cb14e2_04e5_11eb_8669_2cf05d3e4f1brow5_col5\" class=\"data row5 col5\" >1.000000</td>\n",
       "                        <td id=\"T_21cb14e2_04e5_11eb_8669_2cf05d3e4f1brow5_col6\" class=\"data row5 col6\" >0.216225</td>\n",
       "            </tr>\n",
       "            <tr>\n",
       "                        <th id=\"T_21cb14e2_04e5_11eb_8669_2cf05d3e4f1blevel0_row6\" class=\"row_heading level0 row6\" >Fare</th>\n",
       "                        <td id=\"T_21cb14e2_04e5_11eb_8669_2cf05d3e4f1brow6_col0\" class=\"data row6 col0\" >0.012658</td>\n",
       "                        <td id=\"T_21cb14e2_04e5_11eb_8669_2cf05d3e4f1brow6_col1\" class=\"data row6 col1\" >0.257307</td>\n",
       "                        <td id=\"T_21cb14e2_04e5_11eb_8669_2cf05d3e4f1brow6_col2\" class=\"data row6 col2\" >-0.549500</td>\n",
       "                        <td id=\"T_21cb14e2_04e5_11eb_8669_2cf05d3e4f1brow6_col3\" class=\"data row6 col3\" >0.096067</td>\n",
       "                        <td id=\"T_21cb14e2_04e5_11eb_8669_2cf05d3e4f1brow6_col4\" class=\"data row6 col4\" >0.159651</td>\n",
       "                        <td id=\"T_21cb14e2_04e5_11eb_8669_2cf05d3e4f1brow6_col5\" class=\"data row6 col5\" >0.216225</td>\n",
       "                        <td id=\"T_21cb14e2_04e5_11eb_8669_2cf05d3e4f1brow6_col6\" class=\"data row6 col6\" >1.000000</td>\n",
       "            </tr>\n",
       "    </tbody></table>"
      ],
      "text/plain": [
       "<pandas.io.formats.style.Styler at 0x29d421cc400>"
      ]
     },
     "execution_count": 37,
     "metadata": {},
     "output_type": "execute_result"
    }
   ],
   "source": [
    "cm = sns.light_palette(\"green\", as_cmap=True)\n",
    "corr = train_data.corr()\n",
    "corr.style.set_caption('Colormaps, with a caption.').background_gradient(cmap=cm)"
   ]
  },
  {
   "cell_type": "code",
   "execution_count": 60,
   "metadata": {
    "scrolled": true
   },
   "outputs": [
    {
     "data": {
      "text/plain": [
       "<matplotlib.axes._subplots.AxesSubplot at 0x29d43b48ac0>"
      ]
     },
     "execution_count": 60,
     "metadata": {},
     "output_type": "execute_result"
    },
    {
     "data": {
      "image/png": "[encoded data removed]",
      "text/plain": [
       "<Figure size 720x288 with 1 Axes>"
      ]
     },
     "metadata": {
      "needs_background": "light"
     },
     "output_type": "display_data"
    }
   ],
   "source": [
    "plt.figure(figsize=(10,4))\n",
    "sns.lineplot(train_data.Survived, train_data.Pclass)"
   ]
  },
  {
   "cell_type": "code",
   "execution_count": 62,
   "metadata": {},
   "outputs": [
    {
     "data": {
      "text/plain": [
       "<matplotlib.axes._subplots.AxesSubplot at 0x29d43f264f0>"
      ]
     },
     "execution_count": 62,
     "metadata": {},
     "output_type": "execute_result"
    },
    {
     "data": {
      "image/png": "[encoded data removed]",
      "text/plain": [
       "<Figure size 720x288 with 1 Axes>"
      ]
     },
     "metadata": {
      "needs_background": "light"
     },
     "output_type": "display_data"
    }
   ],
   "source": [
    "plt.figure(figsize=(10,4))\n",
    "sns.lineplot(train_data.Pclass, train_data.Survived)"
   ]
  },
  {
   "cell_type": "code",
   "execution_count": null,
   "metadata": {},
   "outputs": [],
   "source": []
  }
 ],
 "metadata": {
  "kernelspec": {
   "display_name": "Python 3",
   "language": "python",
   "name": "python3"
  },
  "language_info": {
   "codemirror_mode": {
    "name": "ipython",
    "version": 3
   },
   "file_extension": ".py",
   "mimetype": "text/x-python",
   "name": "python",
   "nbconvert_exporter": "python",
   "pygments_lexer": "ipython3",
   "version": "3.8.3"
  }
 },
 "nbformat": 4,
 "nbformat_minor": 4
}
