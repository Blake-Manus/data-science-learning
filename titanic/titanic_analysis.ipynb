{
 "cells": [
  {
   "cell_type": "code",
   "execution_count": 84,
   "metadata": {},
   "outputs": [],
   "source": [
    "import pandas as pd\n",
    "pd.plotting.register_matplotlib_converters()\n",
    "import matplotlib.pyplot as plt\n",
    "%matplotlib inline\n",
    "import seaborn as sns\n",
    "from sklearn import preprocessing\n",
    "from sklearn.model_selection import train_test_split\n",
    "from sklearn.neighbors import KNeighborsClassifier"
   ]
  },
  {
   "cell_type": "code",
   "execution_count": 148,
   "metadata": {
    "scrolled": true
   },
   "outputs": [
    {
     "data": {
      "text/html": [
       "<div>\n",
       "<style scoped>\n",
       "    .dataframe tbody tr th:only-of-type {\n",
       "        vertical-align: middle;\n",
       "    }\n",
       "\n",
       "    .dataframe tbody tr th {\n",
       "        vertical-align: top;\n",
       "    }\n",
       "\n",
       "    .dataframe thead th {\n",
       "        text-align: right;\n",
       "    }\n",
       "</style>\n",
       "<table border=\"1\" class=\"dataframe\">\n",
       "  <thead>\n",
       "    <tr style=\"text-align: right;\">\n",
       "      <th></th>\n",
       "      <th>Survived</th>\n",
       "      <th>Pclass</th>\n",
       "      <th>Sex</th>\n",
       "      <th>Age</th>\n",
       "      <th>SibSp</th>\n",
       "      <th>Parch</th>\n",
       "      <th>Fare</th>\n",
       "      <th>Embarked</th>\n",
       "    </tr>\n",
       "  </thead>\n",
       "  <tbody>\n",
       "    <tr>\n",
       "      <th>0</th>\n",
       "      <td>0</td>\n",
       "      <td>3</td>\n",
       "      <td>1</td>\n",
       "      <td>22.0</td>\n",
       "      <td>1</td>\n",
       "      <td>0</td>\n",
       "      <td>7.2500</td>\n",
       "      <td>2</td>\n",
       "    </tr>\n",
       "    <tr>\n",
       "      <th>1</th>\n",
       "      <td>1</td>\n",
       "      <td>1</td>\n",
       "      <td>0</td>\n",
       "      <td>38.0</td>\n",
       "      <td>1</td>\n",
       "      <td>0</td>\n",
       "      <td>71.2833</td>\n",
       "      <td>0</td>\n",
       "    </tr>\n",
       "    <tr>\n",
       "      <th>2</th>\n",
       "      <td>1</td>\n",
       "      <td>3</td>\n",
       "      <td>0</td>\n",
       "      <td>26.0</td>\n",
       "      <td>0</td>\n",
       "      <td>0</td>\n",
       "      <td>7.9250</td>\n",
       "      <td>2</td>\n",
       "    </tr>\n",
       "    <tr>\n",
       "      <th>3</th>\n",
       "      <td>1</td>\n",
       "      <td>1</td>\n",
       "      <td>0</td>\n",
       "      <td>35.0</td>\n",
       "      <td>1</td>\n",
       "      <td>0</td>\n",
       "      <td>53.1000</td>\n",
       "      <td>2</td>\n",
       "    </tr>\n",
       "    <tr>\n",
       "      <th>4</th>\n",
       "      <td>0</td>\n",
       "      <td>3</td>\n",
       "      <td>1</td>\n",
       "      <td>35.0</td>\n",
       "      <td>0</td>\n",
       "      <td>0</td>\n",
       "      <td>8.0500</td>\n",
       "      <td>2</td>\n",
       "    </tr>\n",
       "  </tbody>\n",
       "</table>\n",
       "</div>"
      ],
      "text/plain": [
       "   Survived  Pclass  Sex   Age  SibSp  Parch     Fare  Embarked\n",
       "0         0       3    1  22.0      1      0   7.2500         2\n",
       "1         1       1    0  38.0      1      0  71.2833         0\n",
       "2         1       3    0  26.0      0      0   7.9250         2\n",
       "3         1       1    0  35.0      1      0  53.1000         2\n",
       "4         0       3    1  35.0      0      0   8.0500         2"
      ]
     },
     "execution_count": 148,
     "metadata": {},
     "output_type": "execute_result"
    }
   ],
   "source": [
    "test_data = pd.read_csv('data-sets/test.csv')\n",
    "train_data = pd.read_csv('data-sets/train.csv')\n",
    "#print(train_data)\n",
    "le = preprocessing.LabelEncoder()\n",
    "train_data['Sex'] = le.fit_transform(train_data.Sex)\n",
    "test_data['Sex'] = le.transform(test_data.Sex)\n",
    "\n",
    "train_data = train_data.dropna(subset=['Age'])\n",
    "test_data = test_data.dropna(subset=['Age', 'Fare'])\n",
    "train_data['Embarked'] = le.fit_transform(train_data.Embarked.astype(str))\n",
    "test_data['Embarked'] = le.transform(test_data.Embarked.astype(str))\n",
    "#print(type(train_data.Embarked[0]))\n",
    "#train_data.Sex = le.transform(train_data.Sex)\n",
    "train_data = train_data.drop(columns=['PassengerId', 'Name', 'Ticket', 'Cabin'])\n",
    "test_data =  test_data.drop(columns=['PassengerId', 'Name', 'Ticket', 'Cabin'])\n",
    "#train_data.head()\n",
    "df1 = test_data[test_data.isna().any(axis=1)]\n",
    "train_data.head()\n",
    "#Male is 1, Female is 0\n",
    "#test_data.head()\n",
    "#train_data.head()\n",
    "#print(test_data)"
   ]
  },
  {
   "cell_type": "code",
   "execution_count": 149,
   "metadata": {
    "scrolled": true
   },
   "outputs": [
    {
     "data": {
      "text/html": [
       "<div>\n",
       "<style scoped>\n",
       "    .dataframe tbody tr th:only-of-type {\n",
       "        vertical-align: middle;\n",
       "    }\n",
       "\n",
       "    .dataframe tbody tr th {\n",
       "        vertical-align: top;\n",
       "    }\n",
       "\n",
       "    .dataframe thead th {\n",
       "        text-align: right;\n",
       "    }\n",
       "</style>\n",
       "<table border=\"1\" class=\"dataframe\">\n",
       "  <thead>\n",
       "    <tr style=\"text-align: right;\">\n",
       "      <th></th>\n",
       "      <th>Pclass</th>\n",
       "      <th>Sex</th>\n",
       "      <th>Age</th>\n",
       "      <th>SibSp</th>\n",
       "      <th>Parch</th>\n",
       "      <th>Fare</th>\n",
       "      <th>Embarked</th>\n",
       "    </tr>\n",
       "  </thead>\n",
       "  <tbody>\n",
       "    <tr>\n",
       "      <th>0</th>\n",
       "      <td>3</td>\n",
       "      <td>1</td>\n",
       "      <td>34.5</td>\n",
       "      <td>0</td>\n",
       "      <td>0</td>\n",
       "      <td>7.8292</td>\n",
       "      <td>1</td>\n",
       "    </tr>\n",
       "    <tr>\n",
       "      <th>1</th>\n",
       "      <td>3</td>\n",
       "      <td>0</td>\n",
       "      <td>47.0</td>\n",
       "      <td>1</td>\n",
       "      <td>0</td>\n",
       "      <td>7.0000</td>\n",
       "      <td>2</td>\n",
       "    </tr>\n",
       "    <tr>\n",
       "      <th>2</th>\n",
       "      <td>2</td>\n",
       "      <td>1</td>\n",
       "      <td>62.0</td>\n",
       "      <td>0</td>\n",
       "      <td>0</td>\n",
       "      <td>9.6875</td>\n",
       "      <td>1</td>\n",
       "    </tr>\n",
       "    <tr>\n",
       "      <th>3</th>\n",
       "      <td>3</td>\n",
       "      <td>1</td>\n",
       "      <td>27.0</td>\n",
       "      <td>0</td>\n",
       "      <td>0</td>\n",
       "      <td>8.6625</td>\n",
       "      <td>2</td>\n",
       "    </tr>\n",
       "    <tr>\n",
       "      <th>4</th>\n",
       "      <td>3</td>\n",
       "      <td>0</td>\n",
       "      <td>22.0</td>\n",
       "      <td>1</td>\n",
       "      <td>1</td>\n",
       "      <td>12.2875</td>\n",
       "      <td>2</td>\n",
       "    </tr>\n",
       "  </tbody>\n",
       "</table>\n",
       "</div>"
      ],
      "text/plain": [
       "   Pclass  Sex   Age  SibSp  Parch     Fare  Embarked\n",
       "0       3    1  34.5      0      0   7.8292         1\n",
       "1       3    0  47.0      1      0   7.0000         2\n",
       "2       2    1  62.0      0      0   9.6875         1\n",
       "3       3    1  27.0      0      0   8.6625         2\n",
       "4       3    0  22.0      1      1  12.2875         2"
      ]
     },
     "execution_count": 149,
     "metadata": {},
     "output_type": "execute_result"
    }
   ],
   "source": [
    "test_data.head()"
   ]
  },
  {
   "cell_type": "code",
   "execution_count": 13,
   "metadata": {},
   "outputs": [
    {
     "data": {
      "text/html": [
       "<style  type=\"text/css\" >\n",
       "    #T_cb1d591d_05f0_11eb_92d7_2cf05d3e4f1brow0_col0 {\n",
       "            background-color:  #008000;\n",
       "            color:  #f1f1f1;\n",
       "        }    #T_cb1d591d_05f0_11eb_92d7_2cf05d3e4f1brow0_col1 {\n",
       "            background-color:  #95d395;\n",
       "            color:  #000000;\n",
       "        }    #T_cb1d591d_05f0_11eb_92d7_2cf05d3e4f1brow0_col2 {\n",
       "            background-color:  #9ad59a;\n",
       "            color:  #000000;\n",
       "        }    #T_cb1d591d_05f0_11eb_92d7_2cf05d3e4f1brow0_col3 {\n",
       "            background-color:  #8ecf8e;\n",
       "            color:  #000000;\n",
       "        }    #T_cb1d591d_05f0_11eb_92d7_2cf05d3e4f1brow0_col4 {\n",
       "            background-color:  #a2daa2;\n",
       "            color:  #000000;\n",
       "        }    #T_cb1d591d_05f0_11eb_92d7_2cf05d3e4f1brow0_col5 {\n",
       "            background-color:  #b9e7b9;\n",
       "            color:  #000000;\n",
       "        }    #T_cb1d591d_05f0_11eb_92d7_2cf05d3e4f1brow0_col6 {\n",
       "            background-color:  #b8e6b8;\n",
       "            color:  #000000;\n",
       "        }    #T_cb1d591d_05f0_11eb_92d7_2cf05d3e4f1brow0_col7 {\n",
       "            background-color:  #93d193;\n",
       "            color:  #000000;\n",
       "        }    #T_cb1d591d_05f0_11eb_92d7_2cf05d3e4f1brow1_col0 {\n",
       "            background-color:  #dbf9db;\n",
       "            color:  #000000;\n",
       "        }    #T_cb1d591d_05f0_11eb_92d7_2cf05d3e4f1brow1_col1 {\n",
       "            background-color:  #008000;\n",
       "            color:  #f1f1f1;\n",
       "        }    #T_cb1d591d_05f0_11eb_92d7_2cf05d3e4f1brow1_col2 {\n",
       "            background-color:  #c7eec7;\n",
       "            color:  #000000;\n",
       "        }    #T_cb1d591d_05f0_11eb_92d7_2cf05d3e4f1brow1_col3 {\n",
       "            background-color:  #e5ffe5;\n",
       "            color:  #000000;\n",
       "        }    #T_cb1d591d_05f0_11eb_92d7_2cf05d3e4f1brow1_col4 {\n",
       "            background-color:  #b5e4b5;\n",
       "            color:  #000000;\n",
       "        }    #T_cb1d591d_05f0_11eb_92d7_2cf05d3e4f1brow1_col5 {\n",
       "            background-color:  #b6e5b6;\n",
       "            color:  #000000;\n",
       "        }    #T_cb1d591d_05f0_11eb_92d7_2cf05d3e4f1brow1_col6 {\n",
       "            background-color:  #a9dea9;\n",
       "            color:  #000000;\n",
       "        }    #T_cb1d591d_05f0_11eb_92d7_2cf05d3e4f1brow1_col7 {\n",
       "            background-color:  #6ebd6e;\n",
       "            color:  #000000;\n",
       "        }    #T_cb1d591d_05f0_11eb_92d7_2cf05d3e4f1brow2_col0 {\n",
       "            background-color:  #e1fde1;\n",
       "            color:  #000000;\n",
       "        }    #T_cb1d591d_05f0_11eb_92d7_2cf05d3e4f1brow2_col1 {\n",
       "            background-color:  #c8efc8;\n",
       "            color:  #000000;\n",
       "        }    #T_cb1d591d_05f0_11eb_92d7_2cf05d3e4f1brow2_col2 {\n",
       "            background-color:  #008000;\n",
       "            color:  #f1f1f1;\n",
       "        }    #T_cb1d591d_05f0_11eb_92d7_2cf05d3e4f1brow2_col3 {\n",
       "            background-color:  #81c781;\n",
       "            color:  #000000;\n",
       "        }    #T_cb1d591d_05f0_11eb_92d7_2cf05d3e4f1brow2_col4 {\n",
       "            background-color:  #e5ffe5;\n",
       "            color:  #000000;\n",
       "        }    #T_cb1d591d_05f0_11eb_92d7_2cf05d3e4f1brow2_col5 {\n",
       "            background-color:  #a1d9a1;\n",
       "            color:  #000000;\n",
       "        }    #T_cb1d591d_05f0_11eb_92d7_2cf05d3e4f1brow2_col6 {\n",
       "            background-color:  #b5e4b5;\n",
       "            color:  #000000;\n",
       "        }    #T_cb1d591d_05f0_11eb_92d7_2cf05d3e4f1brow2_col7 {\n",
       "            background-color:  #e5ffe5;\n",
       "            color:  #000000;\n",
       "        }    #T_cb1d591d_05f0_11eb_92d7_2cf05d3e4f1brow3_col0 {\n",
       "            background-color:  #d0f3d0;\n",
       "            color:  #000000;\n",
       "        }    #T_cb1d591d_05f0_11eb_92d7_2cf05d3e4f1brow3_col1 {\n",
       "            background-color:  #e5ffe5;\n",
       "            color:  #000000;\n",
       "        }    #T_cb1d591d_05f0_11eb_92d7_2cf05d3e4f1brow3_col2 {\n",
       "            background-color:  #81c781;\n",
       "            color:  #000000;\n",
       "        }    #T_cb1d591d_05f0_11eb_92d7_2cf05d3e4f1brow3_col3 {\n",
       "            background-color:  #008000;\n",
       "            color:  #f1f1f1;\n",
       "        }    #T_cb1d591d_05f0_11eb_92d7_2cf05d3e4f1brow3_col4 {\n",
       "            background-color:  #98d498;\n",
       "            color:  #000000;\n",
       "        }    #T_cb1d591d_05f0_11eb_92d7_2cf05d3e4f1brow3_col5 {\n",
       "            background-color:  #c4edc4;\n",
       "            color:  #000000;\n",
       "        }    #T_cb1d591d_05f0_11eb_92d7_2cf05d3e4f1brow3_col6 {\n",
       "            background-color:  #e5ffe5;\n",
       "            color:  #000000;\n",
       "        }    #T_cb1d591d_05f0_11eb_92d7_2cf05d3e4f1brow3_col7 {\n",
       "            background-color:  #b0e1b0;\n",
       "            color:  #000000;\n",
       "        }    #T_cb1d591d_05f0_11eb_92d7_2cf05d3e4f1brow4_col0 {\n",
       "            background-color:  #d2f4d2;\n",
       "            color:  #000000;\n",
       "        }    #T_cb1d591d_05f0_11eb_92d7_2cf05d3e4f1brow4_col1 {\n",
       "            background-color:  #a0d9a0;\n",
       "            color:  #000000;\n",
       "        }    #T_cb1d591d_05f0_11eb_92d7_2cf05d3e4f1brow4_col2 {\n",
       "            background-color:  #cbf1cb;\n",
       "            color:  #000000;\n",
       "        }    #T_cb1d591d_05f0_11eb_92d7_2cf05d3e4f1brow4_col3 {\n",
       "            background-color:  #87cb87;\n",
       "            color:  #000000;\n",
       "        }    #T_cb1d591d_05f0_11eb_92d7_2cf05d3e4f1brow4_col4 {\n",
       "            background-color:  #008000;\n",
       "            color:  #f1f1f1;\n",
       "        }    #T_cb1d591d_05f0_11eb_92d7_2cf05d3e4f1brow4_col5 {\n",
       "            background-color:  #e5ffe5;\n",
       "            color:  #000000;\n",
       "        }    #T_cb1d591d_05f0_11eb_92d7_2cf05d3e4f1brow4_col6 {\n",
       "            background-color:  #dcfadc;\n",
       "            color:  #000000;\n",
       "        }    #T_cb1d591d_05f0_11eb_92d7_2cf05d3e4f1brow4_col7 {\n",
       "            background-color:  #86ca86;\n",
       "            color:  #000000;\n",
       "        }    #T_cb1d591d_05f0_11eb_92d7_2cf05d3e4f1brow5_col0 {\n",
       "            background-color:  #e5ffe5;\n",
       "            color:  #000000;\n",
       "        }    #T_cb1d591d_05f0_11eb_92d7_2cf05d3e4f1brow5_col1 {\n",
       "            background-color:  #9ad59a;\n",
       "            color:  #000000;\n",
       "        }    #T_cb1d591d_05f0_11eb_92d7_2cf05d3e4f1brow5_col2 {\n",
       "            background-color:  #88cb88;\n",
       "            color:  #000000;\n",
       "        }    #T_cb1d591d_05f0_11eb_92d7_2cf05d3e4f1brow5_col3 {\n",
       "            background-color:  #a6dca6;\n",
       "            color:  #000000;\n",
       "        }    #T_cb1d591d_05f0_11eb_92d7_2cf05d3e4f1brow5_col4 {\n",
       "            background-color:  #dcfadc;\n",
       "            color:  #000000;\n",
       "        }    #T_cb1d591d_05f0_11eb_92d7_2cf05d3e4f1brow5_col5 {\n",
       "            background-color:  #008000;\n",
       "            color:  #f1f1f1;\n",
       "        }    #T_cb1d591d_05f0_11eb_92d7_2cf05d3e4f1brow5_col6 {\n",
       "            background-color:  #6cbc6c;\n",
       "            color:  #000000;\n",
       "        }    #T_cb1d591d_05f0_11eb_92d7_2cf05d3e4f1brow5_col7 {\n",
       "            background-color:  #7cc57c;\n",
       "            color:  #000000;\n",
       "        }    #T_cb1d591d_05f0_11eb_92d7_2cf05d3e4f1brow6_col0 {\n",
       "            background-color:  #daf9da;\n",
       "            color:  #000000;\n",
       "        }    #T_cb1d591d_05f0_11eb_92d7_2cf05d3e4f1brow6_col1 {\n",
       "            background-color:  #89cc89;\n",
       "            color:  #000000;\n",
       "        }    #T_cb1d591d_05f0_11eb_92d7_2cf05d3e4f1brow6_col2 {\n",
       "            background-color:  #92d192;\n",
       "            color:  #000000;\n",
       "        }    #T_cb1d591d_05f0_11eb_92d7_2cf05d3e4f1brow6_col3 {\n",
       "            background-color:  #b9e7b9;\n",
       "            color:  #000000;\n",
       "        }    #T_cb1d591d_05f0_11eb_92d7_2cf05d3e4f1brow6_col4 {\n",
       "            background-color:  #c8efc8;\n",
       "            color:  #000000;\n",
       "        }    #T_cb1d591d_05f0_11eb_92d7_2cf05d3e4f1brow6_col5 {\n",
       "            background-color:  #67b967;\n",
       "            color:  #000000;\n",
       "        }    #T_cb1d591d_05f0_11eb_92d7_2cf05d3e4f1brow6_col6 {\n",
       "            background-color:  #008000;\n",
       "            color:  #f1f1f1;\n",
       "        }    #T_cb1d591d_05f0_11eb_92d7_2cf05d3e4f1brow6_col7 {\n",
       "            background-color:  #74c074;\n",
       "            color:  #000000;\n",
       "        }    #T_cb1d591d_05f0_11eb_92d7_2cf05d3e4f1brow7_col0 {\n",
       "            background-color:  #d7f7d7;\n",
       "            color:  #000000;\n",
       "        }    #T_cb1d591d_05f0_11eb_92d7_2cf05d3e4f1brow7_col1 {\n",
       "            background-color:  #6fbd6f;\n",
       "            color:  #000000;\n",
       "        }    #T_cb1d591d_05f0_11eb_92d7_2cf05d3e4f1brow7_col2 {\n",
       "            background-color:  #e5ffe5;\n",
       "            color:  #000000;\n",
       "        }    #T_cb1d591d_05f0_11eb_92d7_2cf05d3e4f1brow7_col3 {\n",
       "            background-color:  #b0e2b0;\n",
       "            color:  #000000;\n",
       "        }    #T_cb1d591d_05f0_11eb_92d7_2cf05d3e4f1brow7_col4 {\n",
       "            background-color:  #98d498;\n",
       "            color:  #000000;\n",
       "        }    #T_cb1d591d_05f0_11eb_92d7_2cf05d3e4f1brow7_col5 {\n",
       "            background-color:  #94d294;\n",
       "            color:  #000000;\n",
       "        }    #T_cb1d591d_05f0_11eb_92d7_2cf05d3e4f1brow7_col6 {\n",
       "            background-color:  #91d091;\n",
       "            color:  #000000;\n",
       "        }    #T_cb1d591d_05f0_11eb_92d7_2cf05d3e4f1brow7_col7 {\n",
       "            background-color:  #008000;\n",
       "            color:  #f1f1f1;\n",
       "        }</style><table id=\"T_cb1d591d_05f0_11eb_92d7_2cf05d3e4f1b\" ><caption>Colormaps, with a caption.</caption><thead>    <tr>        <th class=\"blank level0\" ></th>        <th class=\"col_heading level0 col0\" >PassengerId</th>        <th class=\"col_heading level0 col1\" >Survived</th>        <th class=\"col_heading level0 col2\" >Pclass</th>        <th class=\"col_heading level0 col3\" >Sex</th>        <th class=\"col_heading level0 col4\" >Age</th>        <th class=\"col_heading level0 col5\" >SibSp</th>        <th class=\"col_heading level0 col6\" >Parch</th>        <th class=\"col_heading level0 col7\" >Fare</th>    </tr></thead><tbody>\n",
       "                <tr>\n",
       "                        <th id=\"T_cb1d591d_05f0_11eb_92d7_2cf05d3e4f1blevel0_row0\" class=\"row_heading level0 row0\" >PassengerId</th>\n",
       "                        <td id=\"T_cb1d591d_05f0_11eb_92d7_2cf05d3e4f1brow0_col0\" class=\"data row0 col0\" >1.000000</td>\n",
       "                        <td id=\"T_cb1d591d_05f0_11eb_92d7_2cf05d3e4f1brow0_col1\" class=\"data row0 col1\" >-0.005007</td>\n",
       "                        <td id=\"T_cb1d591d_05f0_11eb_92d7_2cf05d3e4f1brow0_col2\" class=\"data row0 col2\" >-0.035144</td>\n",
       "                        <td id=\"T_cb1d591d_05f0_11eb_92d7_2cf05d3e4f1brow0_col3\" class=\"data row0 col3\" >0.042939</td>\n",
       "                        <td id=\"T_cb1d591d_05f0_11eb_92d7_2cf05d3e4f1brow0_col4\" class=\"data row0 col4\" >0.036847</td>\n",
       "                        <td id=\"T_cb1d591d_05f0_11eb_92d7_2cf05d3e4f1brow0_col5\" class=\"data row0 col5\" >-0.057527</td>\n",
       "                        <td id=\"T_cb1d591d_05f0_11eb_92d7_2cf05d3e4f1brow0_col6\" class=\"data row0 col6\" >-0.001652</td>\n",
       "                        <td id=\"T_cb1d591d_05f0_11eb_92d7_2cf05d3e4f1brow0_col7\" class=\"data row0 col7\" >0.012658</td>\n",
       "            </tr>\n",
       "            <tr>\n",
       "                        <th id=\"T_cb1d591d_05f0_11eb_92d7_2cf05d3e4f1blevel0_row1\" class=\"row_heading level0 row1\" >Survived</th>\n",
       "                        <td id=\"T_cb1d591d_05f0_11eb_92d7_2cf05d3e4f1brow1_col0\" class=\"data row1 col0\" >-0.005007</td>\n",
       "                        <td id=\"T_cb1d591d_05f0_11eb_92d7_2cf05d3e4f1brow1_col1\" class=\"data row1 col1\" >1.000000</td>\n",
       "                        <td id=\"T_cb1d591d_05f0_11eb_92d7_2cf05d3e4f1brow1_col2\" class=\"data row1 col2\" >-0.338481</td>\n",
       "                        <td id=\"T_cb1d591d_05f0_11eb_92d7_2cf05d3e4f1brow1_col3\" class=\"data row1 col3\" >-0.543351</td>\n",
       "                        <td id=\"T_cb1d591d_05f0_11eb_92d7_2cf05d3e4f1brow1_col4\" class=\"data row1 col4\" >-0.077221</td>\n",
       "                        <td id=\"T_cb1d591d_05f0_11eb_92d7_2cf05d3e4f1brow1_col5\" class=\"data row1 col5\" >-0.035322</td>\n",
       "                        <td id=\"T_cb1d591d_05f0_11eb_92d7_2cf05d3e4f1brow1_col6\" class=\"data row1 col6\" >0.081629</td>\n",
       "                        <td id=\"T_cb1d591d_05f0_11eb_92d7_2cf05d3e4f1brow1_col7\" class=\"data row1 col7\" >0.257307</td>\n",
       "            </tr>\n",
       "            <tr>\n",
       "                        <th id=\"T_cb1d591d_05f0_11eb_92d7_2cf05d3e4f1blevel0_row2\" class=\"row_heading level0 row2\" >Pclass</th>\n",
       "                        <td id=\"T_cb1d591d_05f0_11eb_92d7_2cf05d3e4f1brow2_col0\" class=\"data row2 col0\" >-0.035144</td>\n",
       "                        <td id=\"T_cb1d591d_05f0_11eb_92d7_2cf05d3e4f1brow2_col1\" class=\"data row2 col1\" >-0.338481</td>\n",
       "                        <td id=\"T_cb1d591d_05f0_11eb_92d7_2cf05d3e4f1brow2_col2\" class=\"data row2 col2\" >1.000000</td>\n",
       "                        <td id=\"T_cb1d591d_05f0_11eb_92d7_2cf05d3e4f1brow2_col3\" class=\"data row2 col3\" >0.131900</td>\n",
       "                        <td id=\"T_cb1d591d_05f0_11eb_92d7_2cf05d3e4f1brow2_col4\" class=\"data row2 col4\" >-0.369226</td>\n",
       "                        <td id=\"T_cb1d591d_05f0_11eb_92d7_2cf05d3e4f1brow2_col5\" class=\"data row2 col5\" >0.083081</td>\n",
       "                        <td id=\"T_cb1d591d_05f0_11eb_92d7_2cf05d3e4f1brow2_col6\" class=\"data row2 col6\" >0.018443</td>\n",
       "                        <td id=\"T_cb1d591d_05f0_11eb_92d7_2cf05d3e4f1brow2_col7\" class=\"data row2 col7\" >-0.549500</td>\n",
       "            </tr>\n",
       "            <tr>\n",
       "                        <th id=\"T_cb1d591d_05f0_11eb_92d7_2cf05d3e4f1blevel0_row3\" class=\"row_heading level0 row3\" >Sex</th>\n",
       "                        <td id=\"T_cb1d591d_05f0_11eb_92d7_2cf05d3e4f1brow3_col0\" class=\"data row3 col0\" >0.042939</td>\n",
       "                        <td id=\"T_cb1d591d_05f0_11eb_92d7_2cf05d3e4f1brow3_col1\" class=\"data row3 col1\" >-0.543351</td>\n",
       "                        <td id=\"T_cb1d591d_05f0_11eb_92d7_2cf05d3e4f1brow3_col2\" class=\"data row3 col2\" >0.131900</td>\n",
       "                        <td id=\"T_cb1d591d_05f0_11eb_92d7_2cf05d3e4f1brow3_col3\" class=\"data row3 col3\" >1.000000</td>\n",
       "                        <td id=\"T_cb1d591d_05f0_11eb_92d7_2cf05d3e4f1brow3_col4\" class=\"data row3 col4\" >0.093254</td>\n",
       "                        <td id=\"T_cb1d591d_05f0_11eb_92d7_2cf05d3e4f1brow3_col5\" class=\"data row3 col5\" >-0.114631</td>\n",
       "                        <td id=\"T_cb1d591d_05f0_11eb_92d7_2cf05d3e4f1brow3_col6\" class=\"data row3 col6\" >-0.245489</td>\n",
       "                        <td id=\"T_cb1d591d_05f0_11eb_92d7_2cf05d3e4f1brow3_col7\" class=\"data row3 col7\" >-0.182333</td>\n",
       "            </tr>\n",
       "            <tr>\n",
       "                        <th id=\"T_cb1d591d_05f0_11eb_92d7_2cf05d3e4f1blevel0_row4\" class=\"row_heading level0 row4\" >Age</th>\n",
       "                        <td id=\"T_cb1d591d_05f0_11eb_92d7_2cf05d3e4f1brow4_col0\" class=\"data row4 col0\" >0.036847</td>\n",
       "                        <td id=\"T_cb1d591d_05f0_11eb_92d7_2cf05d3e4f1brow4_col1\" class=\"data row4 col1\" >-0.077221</td>\n",
       "                        <td id=\"T_cb1d591d_05f0_11eb_92d7_2cf05d3e4f1brow4_col2\" class=\"data row4 col2\" >-0.369226</td>\n",
       "                        <td id=\"T_cb1d591d_05f0_11eb_92d7_2cf05d3e4f1brow4_col3\" class=\"data row4 col3\" >0.093254</td>\n",
       "                        <td id=\"T_cb1d591d_05f0_11eb_92d7_2cf05d3e4f1brow4_col4\" class=\"data row4 col4\" >1.000000</td>\n",
       "                        <td id=\"T_cb1d591d_05f0_11eb_92d7_2cf05d3e4f1brow4_col5\" class=\"data row4 col5\" >-0.308247</td>\n",
       "                        <td id=\"T_cb1d591d_05f0_11eb_92d7_2cf05d3e4f1brow4_col6\" class=\"data row4 col6\" >-0.189119</td>\n",
       "                        <td id=\"T_cb1d591d_05f0_11eb_92d7_2cf05d3e4f1brow4_col7\" class=\"data row4 col7\" >0.096067</td>\n",
       "            </tr>\n",
       "            <tr>\n",
       "                        <th id=\"T_cb1d591d_05f0_11eb_92d7_2cf05d3e4f1blevel0_row5\" class=\"row_heading level0 row5\" >SibSp</th>\n",
       "                        <td id=\"T_cb1d591d_05f0_11eb_92d7_2cf05d3e4f1brow5_col0\" class=\"data row5 col0\" >-0.057527</td>\n",
       "                        <td id=\"T_cb1d591d_05f0_11eb_92d7_2cf05d3e4f1brow5_col1\" class=\"data row5 col1\" >-0.035322</td>\n",
       "                        <td id=\"T_cb1d591d_05f0_11eb_92d7_2cf05d3e4f1brow5_col2\" class=\"data row5 col2\" >0.083081</td>\n",
       "                        <td id=\"T_cb1d591d_05f0_11eb_92d7_2cf05d3e4f1brow5_col3\" class=\"data row5 col3\" >-0.114631</td>\n",
       "                        <td id=\"T_cb1d591d_05f0_11eb_92d7_2cf05d3e4f1brow5_col4\" class=\"data row5 col4\" >-0.308247</td>\n",
       "                        <td id=\"T_cb1d591d_05f0_11eb_92d7_2cf05d3e4f1brow5_col5\" class=\"data row5 col5\" >1.000000</td>\n",
       "                        <td id=\"T_cb1d591d_05f0_11eb_92d7_2cf05d3e4f1brow5_col6\" class=\"data row5 col6\" >0.414838</td>\n",
       "                        <td id=\"T_cb1d591d_05f0_11eb_92d7_2cf05d3e4f1brow5_col7\" class=\"data row5 col7\" >0.159651</td>\n",
       "            </tr>\n",
       "            <tr>\n",
       "                        <th id=\"T_cb1d591d_05f0_11eb_92d7_2cf05d3e4f1blevel0_row6\" class=\"row_heading level0 row6\" >Parch</th>\n",
       "                        <td id=\"T_cb1d591d_05f0_11eb_92d7_2cf05d3e4f1brow6_col0\" class=\"data row6 col0\" >-0.001652</td>\n",
       "                        <td id=\"T_cb1d591d_05f0_11eb_92d7_2cf05d3e4f1brow6_col1\" class=\"data row6 col1\" >0.081629</td>\n",
       "                        <td id=\"T_cb1d591d_05f0_11eb_92d7_2cf05d3e4f1brow6_col2\" class=\"data row6 col2\" >0.018443</td>\n",
       "                        <td id=\"T_cb1d591d_05f0_11eb_92d7_2cf05d3e4f1brow6_col3\" class=\"data row6 col3\" >-0.245489</td>\n",
       "                        <td id=\"T_cb1d591d_05f0_11eb_92d7_2cf05d3e4f1brow6_col4\" class=\"data row6 col4\" >-0.189119</td>\n",
       "                        <td id=\"T_cb1d591d_05f0_11eb_92d7_2cf05d3e4f1brow6_col5\" class=\"data row6 col5\" >0.414838</td>\n",
       "                        <td id=\"T_cb1d591d_05f0_11eb_92d7_2cf05d3e4f1brow6_col6\" class=\"data row6 col6\" >1.000000</td>\n",
       "                        <td id=\"T_cb1d591d_05f0_11eb_92d7_2cf05d3e4f1brow6_col7\" class=\"data row6 col7\" >0.216225</td>\n",
       "            </tr>\n",
       "            <tr>\n",
       "                        <th id=\"T_cb1d591d_05f0_11eb_92d7_2cf05d3e4f1blevel0_row7\" class=\"row_heading level0 row7\" >Fare</th>\n",
       "                        <td id=\"T_cb1d591d_05f0_11eb_92d7_2cf05d3e4f1brow7_col0\" class=\"data row7 col0\" >0.012658</td>\n",
       "                        <td id=\"T_cb1d591d_05f0_11eb_92d7_2cf05d3e4f1brow7_col1\" class=\"data row7 col1\" >0.257307</td>\n",
       "                        <td id=\"T_cb1d591d_05f0_11eb_92d7_2cf05d3e4f1brow7_col2\" class=\"data row7 col2\" >-0.549500</td>\n",
       "                        <td id=\"T_cb1d591d_05f0_11eb_92d7_2cf05d3e4f1brow7_col3\" class=\"data row7 col3\" >-0.182333</td>\n",
       "                        <td id=\"T_cb1d591d_05f0_11eb_92d7_2cf05d3e4f1brow7_col4\" class=\"data row7 col4\" >0.096067</td>\n",
       "                        <td id=\"T_cb1d591d_05f0_11eb_92d7_2cf05d3e4f1brow7_col5\" class=\"data row7 col5\" >0.159651</td>\n",
       "                        <td id=\"T_cb1d591d_05f0_11eb_92d7_2cf05d3e4f1brow7_col6\" class=\"data row7 col6\" >0.216225</td>\n",
       "                        <td id=\"T_cb1d591d_05f0_11eb_92d7_2cf05d3e4f1brow7_col7\" class=\"data row7 col7\" >1.000000</td>\n",
       "            </tr>\n",
       "    </tbody></table>"
      ],
      "text/plain": [
       "<pandas.io.formats.style.Styler at 0x1d55eefe9a0>"
      ]
     },
     "execution_count": 13,
     "metadata": {},
     "output_type": "execute_result"
    }
   ],
   "source": [
    "cm = sns.light_palette(\"green\", as_cmap=True)\n",
    "corr = train_data.corr()\n",
    "corr.style.set_caption('Colormaps, with a caption.').background_gradient(cmap=cm)"
   ]
  },
  {
   "cell_type": "code",
   "execution_count": 14,
   "metadata": {
    "scrolled": true
   },
   "outputs": [
    {
     "data": {
      "text/plain": [
       "<matplotlib.axes._subplots.AxesSubplot at 0x1d55f4975b0>"
      ]
     },
     "execution_count": 14,
     "metadata": {},
     "output_type": "execute_result"
    },
    {
     "data": {
      "image/png": "[encoded data removed]",
      "text/plain": [
       "<Figure size 720x288 with 1 Axes>"
      ]
     },
     "metadata": {
      "needs_background": "light"
     },
     "output_type": "display_data"
    }
   ],
   "source": [
    "plt.figure(figsize=(10,4))\n",
    "sns.lineplot(train_data.Survived, train_data.Pclass)"
   ]
  },
  {
   "cell_type": "code",
   "execution_count": 15,
   "metadata": {},
   "outputs": [
    {
     "data": {
      "text/plain": [
       "<matplotlib.axes._subplots.AxesSubplot at 0x1d55fc3ce50>"
      ]
     },
     "execution_count": 15,
     "metadata": {},
     "output_type": "execute_result"
    },
    {
     "data": {
      "image/png": "[encoded data removed]",
      "text/plain": [
       "<Figure size 720x288 with 1 Axes>"
      ]
     },
     "metadata": {
      "needs_background": "light"
     },
     "output_type": "display_data"
    }
   ],
   "source": [
    "plt.figure(figsize=(10,4))\n",
    "sns.set_style(\"whitegrid\")\n",
    "sns.lineplot(train_data.Pclass, train_data.Survived)"
   ]
  },
  {
   "cell_type": "code",
   "execution_count": 37,
   "metadata": {
    "scrolled": true
   },
   "outputs": [
    {
     "data": {
      "text/plain": [
       "<matplotlib.axes._subplots.AxesSubplot at 0x1d5613b5220>"
      ]
     },
     "execution_count": 37,
     "metadata": {},
     "output_type": "execute_result"
    },
    {
     "data": {
      "image/png": "[encoded data removed]",
      "text/plain": [
       "<Figure size 360x288 with 1 Axes>"
      ]
     },
     "metadata": {},
     "output_type": "display_data"
    }
   ],
   "source": [
    "plt.figure(figsize=(5,4))\n",
    "plt.ylim(0.0, 1.0)\n",
    "plt.xlim(1, 3)\n",
    "sns.set_style(\"whitegrid\")\n",
    "sns.barplot(train_data.Pclass, train_data.Survived, palette=[\"gold\", \"silver\", \"darkorange\"], ci=None)\n",
    "#sns.lineplot(train_data.Pclass, train_data.Survived)"
   ]
  },
  {
   "cell_type": "code",
   "execution_count": 35,
   "metadata": {},
   "outputs": [
    {
     "data": {
      "text/plain": [
       "<matplotlib.axes._subplots.AxesSubplot at 0x1d55ff88670>"
      ]
     },
     "execution_count": 35,
     "metadata": {},
     "output_type": "execute_result"
    },
    {
     "data": {
      "image/png": "[encoded data removed]",
      "text/plain": [
       "<Figure size 504x360 with 1 Axes>"
      ]
     },
     "metadata": {},
     "output_type": "display_data"
    }
   ],
   "source": [
    "plt.figure(figsize=(7,5))\n",
    "plt.ylim(0.0, 1.0)\n",
    "plt.xlim(1, 3)\n",
    "sns.set_style(\"whitegrid\")\n",
    "sns.barplot(x=train_data.Pclass, y=train_data.Survived, hue=train_data.Sex, palette=[\"lightpink\", \"skyblue\"], ci=None)\n"
   ]
  },
  {
   "cell_type": "code",
   "execution_count": 66,
   "metadata": {},
   "outputs": [
    {
     "data": {
      "text/plain": [
       "<matplotlib.axes._subplots.AxesSubplot at 0x1d56189be80>"
      ]
     },
     "execution_count": 66,
     "metadata": {},
     "output_type": "execute_result"
    },
    {
     "data": {
      "image/png": "[encoded data removed]",
      "text/plain": [
       "<Figure size 504x360 with 1 Axes>"
      ]
     },
     "metadata": {},
     "output_type": "display_data"
    }
   ],
   "source": [
    "plt.figure(figsize=(7,5))\n",
    "sns.set_style(\"whitegrid\")\n",
    "sns.lineplot(x=train_data.Parch,y=train_data.Survived, ci=0)\n",
    "sns.lineplot(x=train_data.SibSp,y=train_data.Survived, ci=0)"
   ]
  },
  {
   "cell_type": "code",
   "execution_count": 152,
   "metadata": {},
   "outputs": [
    {
     "data": {
      "text/plain": [
       "KNeighborsClassifier(n_neighbors=1)"
      ]
     },
     "execution_count": 152,
     "metadata": {},
     "output_type": "execute_result"
    }
   ],
   "source": [
    "df1 = train_data.Survived\n",
    "train_data = train_data.drop(columns=['Survived'])\n",
    "X_train, X_test, y_train, y_test = train_test_split(train_data, df1, test_size=0.25, random_state=0)\n",
    "#X_train, X_test, y_train, y_test = train_test_split(train_data, test_data, random_state=0)\n",
    "knn = KNeighborsClassifier(n_neighbors=1)\n",
    "\n",
    "knn.fit(X_train, y_train)"
   ]
  },
  {
   "cell_type": "code",
   "execution_count": 153,
   "metadata": {},
   "outputs": [
    {
     "name": "stdout",
     "output_type": "stream",
     "text": [
      "[0 0 1 0 0 0 0 1 0 0 0 0 0 0 1 0 1 1 0 1 1 1 1 0 1 1 1 1 1 0 1 0 0 0 0 0 1\n",
      " 1 0 1 1 0 1 0 1 1 0 0 0 1 0 1 0 1 1 1 1 1 1 0 0 0 0 1 1 0 0 0 0 1 1 1 0 1\n",
      " 0 0 0 0 0 0 0 0 1 0 0 1 0 0 0 0 0 0 1 0 1 0 1 1 1 0 0 0 1 0 1 1 0 0 0 0 0\n",
      " 0 0 0 1 0 1 0 0 1 0 0 0 0 1 0 1 1 0 0 1 0 1 0 0 0 0 0 1 0 1 1 1 0 1 0 0 1\n",
      " 0 0 0 1 1 0 1 0 1 0 0 1 1 1 0 0 0 1 0 0 0 0 0 1 1 1 1 0 1 0 0 0 1 0 1 1 0\n",
      " 1 0 1 1 0 1 0 0 1 1 0 1 1 1 0 0 0 0 0 0 0 1 0 0 1 1 0 1 0 1 0 0 0 0 0 1 0\n",
      " 1 0 0 0 1 0 0 1 0 0 1 1 0 0 0 0 1 0 0 1 0 1 1 1 0 0 1 0 0 0 1 1 0 0 0 1 0\n",
      " 0 1 0 0 1 1 0 1 0 1 1 1 0 0 0 1 0 0 0 1 1 1 0 0 0 0 1 0 1 1 1 0 1 1 0 0 1\n",
      " 1 0 1 0 1 0 0 1 0 0 0 0 1 1 0 0 1 1 1 0 0 0 0 1 1 0 1 0 0 1 1 1 0 1 0]\n"
     ]
    }
   ],
   "source": [
    "prediction = knn.predict(test_data)\n",
    "print(prediction)"
   ]
  },
  {
   "cell_type": "code",
   "execution_count": 154,
   "metadata": {},
   "outputs": [
    {
     "name": "stdout",
     "output_type": "stream",
     "text": [
      "0.6815642458100558\n"
     ]
    }
   ],
   "source": [
    "print(knn.score(X_test, y_test))"
   ]
  },
  {
   "cell_type": "code",
   "execution_count": 156,
   "metadata": {},
   "outputs": [
    {
     "data": {
      "text/plain": [
       "(331, 7)"
      ]
     },
     "execution_count": 156,
     "metadata": {},
     "output_type": "execute_result"
    }
   ],
   "source": [
    "test_data.shape"
   ]
  },
  {
   "cell_type": "code",
   "execution_count": null,
   "metadata": {},
   "outputs": [],
   "source": []
  }
 ],
 "metadata": {
  "kernelspec": {
   "display_name": "Python 3",
   "language": "python",
   "name": "python3"
  },
  "language_info": {
   "codemirror_mode": {
    "name": "ipython",
    "version": 3
   },
   "file_extension": ".py",
   "mimetype": "text/x-python",
   "name": "python",
   "nbconvert_exporter": "python",
   "pygments_lexer": "ipython3",
   "version": "3.8.3"
  }
 },
 "nbformat": 4,
 "nbformat_minor": 4
}
