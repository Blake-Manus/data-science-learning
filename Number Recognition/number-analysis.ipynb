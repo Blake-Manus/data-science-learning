{
 "cells": [
  {
   "cell_type": "code",
   "execution_count": 108,
   "metadata": {},
   "outputs": [],
   "source": [
    "#####################################################################################################\n",
    "### Creator: Ricky Blake Manus\n",
    "### Objective: Analysis of MNIST Dataset to accurately classify and predict the value of \n",
    "### hand written digits ranging from 0-9 from a 28x28 Pixel source image\n",
    "###\n",
    "### MNIST Dataset & Testing Data obtained from Kaggle.com\n",
    "### Data and Competition can be found at https://www.kaggle.com/c/digit-recognizer/overview\n",
    "####################################################################################################"
   ]
  },
  {
   "cell_type": "code",
   "execution_count": 109,
   "metadata": {},
   "outputs": [],
   "source": [
    "import pandas as pd\n",
    "import numpy as np\n",
    "import seaborn as sns\n",
    "from sklearn import svm\n",
    "from sklearn.linear_model import LogisticRegression\n",
    "from matplotlib import pyplot as plt\n",
    "\n",
    "%matplotlib inline"
   ]
  },
  {
   "cell_type": "code",
   "execution_count": 110,
   "metadata": {},
   "outputs": [],
   "source": [
    "### Import CSV Training and Testing Data, noting the layout and columns of the dataset\n",
    "test_data = pd.read_csv('data-sets/test.csv')\n",
    "train_data = pd.read_csv('data-sets/train.csv')\n",
    "\n",
    "#result = train_data.head()\n",
    "#print(result)\n",
    "#train_data.describe()\n",
    "#train_data.shape\n",
    "\n",
    "### The resulting dataframe contains 785 columns, and 42000 Rows\n",
    "### 1 label column which contains the represented digit\n",
    "### 784 Pixel columns that represent the grayscale value of that pixel from 0-255 (inclusive)\n",
    "### Each image is represented by 28x28 pixel image (784 Pixels)"
   ]
  },
  {
   "cell_type": "code",
   "execution_count": 111,
   "metadata": {},
   "outputs": [],
   "source": [
    "#Drop the label column\n",
    "sum_data = train_data.sum(axis=0)\n",
    "sum_data = sum_data.drop(['label'])"
   ]
  },
  {
   "cell_type": "code",
   "execution_count": 112,
   "metadata": {},
   "outputs": [
    {
     "data": {
      "image/png": "[encoded data removed]",
      "text/plain": [
       "<Figure size 432x288 with 2 Axes>"
      ]
     },
     "metadata": {
      "needs_background": "light"
     },
     "output_type": "display_data"
    }
   ],
   "source": [
    "#Created a general heatmap of the Dataset\n",
    "heat_data = sum_data.to_numpy()\n",
    "heat_data = heat_data.reshape(28, 28) \n",
    "ax = sns.heatmap(heat_data)"
   ]
  },
  {
   "cell_type": "code",
   "execution_count": null,
   "metadata": {},
   "outputs": [],
   "source": []
  }
 ],
 "metadata": {
  "kernelspec": {
   "display_name": "Python 3",
   "language": "python",
   "name": "python3"
  },
  "language_info": {
   "codemirror_mode": {
    "name": "ipython",
    "version": 3
   },
   "file_extension": ".py",
   "mimetype": "text/x-python",
   "name": "python",
   "nbconvert_exporter": "python",
   "pygments_lexer": "ipython3",
   "version": "3.8.3"
  }
 },
 "nbformat": 4,
 "nbformat_minor": 4
}
